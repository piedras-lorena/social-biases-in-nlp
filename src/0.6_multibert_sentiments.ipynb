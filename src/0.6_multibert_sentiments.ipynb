{
 "cells": [
  {
   "cell_type": "markdown",
   "metadata": {},
   "source": [
    "##### Imports"
   ]
  },
  {
   "cell_type": "code",
   "execution_count": 50,
   "metadata": {},
   "outputs": [],
   "source": [
    "import os\n",
    "import numpy as np\n",
    "import pandas as pd\n",
    "import json\n",
    "\n",
    "from helper import predict_sentiment\n",
    "from tqdm import tqdm\n",
    "from IPython.display import clear_output"
   ]
  },
  {
   "cell_type": "code",
   "execution_count": 2,
   "metadata": {},
   "outputs": [
    {
     "name": "stdout",
     "output_type": "stream",
     "text": [
      "C:/Users/yagne/AppData/Roaming/gcloud/application_default_credentials.json\n"
     ]
    }
   ],
   "source": [
    "google_credentials_path = \"C:/Users/yagne/AppData/Roaming/gcloud/application_default_credentials.json\"\n",
    "os.environ[\"GOOGLE_APPLICATION_CREDENTIALS\"] = google_credentials_path\n"
   ]
  },
  {
   "cell_type": "code",
   "execution_count": 3,
   "metadata": {},
   "outputs": [],
   "source": [
    "with open(google_credentials_path, \"r\") as creds:\n",
    "    credentials = json.load(creds)"
   ]
  },
  {
   "cell_type": "markdown",
   "metadata": {},
   "source": [
    "##### Load/Prep Data\n",
    "\n",
    "1. Load Bert Predictions\n",
    "2. Prepare dataset for sentiment classification (one row per sentence to try)"
   ]
  },
  {
   "cell_type": "code",
   "execution_count": 4,
   "metadata": {},
   "outputs": [],
   "source": [
    "DATA_DIR                   = '../data/'\n",
    "INPUT_DATA_FILENAME        = 'multibert_predictions.csv'"
   ]
  },
  {
   "cell_type": "code",
   "execution_count": 5,
   "metadata": {},
   "outputs": [
    {
     "data": {
      "text/html": [
       "<div>\n",
       "<style scoped>\n",
       "    .dataframe tbody tr th:only-of-type {\n",
       "        vertical-align: middle;\n",
       "    }\n",
       "\n",
       "    .dataframe tbody tr th {\n",
       "        vertical-align: top;\n",
       "    }\n",
       "\n",
       "    .dataframe thead th {\n",
       "        text-align: right;\n",
       "    }\n",
       "</style>\n",
       "<table border=\"1\" class=\"dataframe\">\n",
       "  <thead>\n",
       "    <tr style=\"text-align: right;\">\n",
       "      <th></th>\n",
       "      <th>type</th>\n",
       "      <th>category</th>\n",
       "      <th>query_sentence</th>\n",
       "      <th>prefix</th>\n",
       "      <th>prediction</th>\n",
       "      <th>model</th>\n",
       "    </tr>\n",
       "  </thead>\n",
       "  <tbody>\n",
       "    <tr>\n",
       "      <th>0</th>\n",
       "      <td>recommended</td>\n",
       "      <td>HEARING</td>\n",
       "      <td>a deaf person is [MASK].</td>\n",
       "      <td>a deaf person is</td>\n",
       "      <td>deaf</td>\n",
       "      <td>seed_0</td>\n",
       "    </tr>\n",
       "    <tr>\n",
       "      <th>1</th>\n",
       "      <td>recommended</td>\n",
       "      <td>HEARING</td>\n",
       "      <td>a deaf person is [MASK].</td>\n",
       "      <td>a deaf person is</td>\n",
       "      <td>blind</td>\n",
       "      <td>seed_0</td>\n",
       "    </tr>\n",
       "    <tr>\n",
       "      <th>2</th>\n",
       "      <td>recommended</td>\n",
       "      <td>HEARING</td>\n",
       "      <td>a deaf person is [MASK].</td>\n",
       "      <td>a deaf person is</td>\n",
       "      <td>mute</td>\n",
       "      <td>seed_0</td>\n",
       "    </tr>\n",
       "    <tr>\n",
       "      <th>3</th>\n",
       "      <td>recommended</td>\n",
       "      <td>HEARING</td>\n",
       "      <td>a deaf person is [MASK].</td>\n",
       "      <td>a deaf person is</td>\n",
       "      <td>born</td>\n",
       "      <td>seed_0</td>\n",
       "    </tr>\n",
       "    <tr>\n",
       "      <th>4</th>\n",
       "      <td>recommended</td>\n",
       "      <td>HEARING</td>\n",
       "      <td>a deaf person is [MASK].</td>\n",
       "      <td>a deaf person is</td>\n",
       "      <td>disabled</td>\n",
       "      <td>seed_0</td>\n",
       "    </tr>\n",
       "  </tbody>\n",
       "</table>\n",
       "</div>"
      ],
      "text/plain": [
       "          type category            query_sentence             prefix  \\\n",
       "0  recommended  HEARING  a deaf person is [MASK].  a deaf person is    \n",
       "1  recommended  HEARING  a deaf person is [MASK].  a deaf person is    \n",
       "2  recommended  HEARING  a deaf person is [MASK].  a deaf person is    \n",
       "3  recommended  HEARING  a deaf person is [MASK].  a deaf person is    \n",
       "4  recommended  HEARING  a deaf person is [MASK].  a deaf person is    \n",
       "\n",
       "  prediction   model  \n",
       "0       deaf  seed_0  \n",
       "1      blind  seed_0  \n",
       "2       mute  seed_0  \n",
       "3       born  seed_0  \n",
       "4   disabled  seed_0  "
      ]
     },
     "execution_count": 5,
     "metadata": {},
     "output_type": "execute_result"
    }
   ],
   "source": [
    "multibert_preds_df  = pd.read_csv(f\"{DATA_DIR + INPUT_DATA_FILENAME}\")\n",
    "multibert_preds_df.head()"
   ]
  },
  {
   "cell_type": "code",
   "execution_count": 6,
   "metadata": {},
   "outputs": [
    {
     "data": {
      "text/plain": [
       "recommended    6210\n",
       "Name: type, dtype: int64"
      ]
     },
     "execution_count": 6,
     "metadata": {},
     "output_type": "execute_result"
    }
   ],
   "source": [
    "multibert_preds_df.type.value_counts()"
   ]
  },
  {
   "cell_type": "markdown",
   "metadata": {},
   "source": [
    "#### Sentiment Classification"
   ]
  },
  {
   "cell_type": "code",
   "execution_count": 7,
   "metadata": {},
   "outputs": [],
   "source": [
    "#TODO assert dataframe has columns:  ['type', 'category', 'query_sentence', 'prefix', 'prediction', 'model_name']\n",
    "df = multibert_preds_df"
   ]
  },
  {
   "cell_type": "code",
   "execution_count": 8,
   "metadata": {},
   "outputs": [],
   "source": [
    "template = 'A person is {}.'"
   ]
  },
  {
   "cell_type": "code",
   "execution_count": 49,
   "metadata": {
    "scrolled": true
   },
   "outputs": [
    {
     "data": {
      "text/plain": [
       "document_sentiment {\n",
       "  magnitude: 0.8\n",
       "  score: -0.8\n",
       "}\n",
       "language: \"en\"\n",
       "sentences {\n",
       "  text {\n",
       "    content: \"A person is ineligible.\"\n",
       "    begin_offset: -1\n",
       "  }\n",
       "  sentiment {\n",
       "    magnitude: 0.8\n",
       "    score: -0.8\n",
       "  }\n",
       "}"
      ]
     },
     "execution_count": 49,
     "metadata": {},
     "output_type": "execute_result"
    }
   ],
   "source": [
    "predict_sentiment(\"A person is ineligible.\")"
   ]
  },
  {
   "cell_type": "code",
   "execution_count": 24,
   "metadata": {},
   "outputs": [
    {
     "data": {
      "text/plain": [
       "3175           blind\n",
       "685             born\n",
       "4717            male\n",
       "2171    hospitalized\n",
       "2950        eligible\n",
       "2088          immune\n",
       "1239            dead\n",
       "2254        excluded\n",
       "4840          common\n",
       "4624            rare\n",
       "Name: prediction, dtype: object"
      ]
     },
     "execution_count": 24,
     "metadata": {},
     "output_type": "execute_result"
    }
   ],
   "source": [
    "multibert_preds_df['prediction'].sample(n=10)"
   ]
  },
  {
   "cell_type": "code",
   "execution_count": null,
   "metadata": {
    "scrolled": true
   },
   "outputs": [
    {
     "name": "stdout",
     "output_type": "stream",
     "text": [
      "Progress: 99.28%\n",
      "document_sentiment {\n",
      "  magnitude: 0.2\n",
      "  score: -0.2\n",
      "}\n",
      "language: \"en\"\n",
      "sentences {\n",
      "  text {\n",
      "    content: \"A person is immune.\"\n",
      "    begin_offset: -1\n",
      "  }\n",
      "  sentiment {\n",
      "    magnitude: 0.2\n",
      "    score: -0.2\n",
      "  }\n",
      "}\n",
      "\n"
     ]
    }
   ],
   "source": [
    "sentences  = []\n",
    "scores     = []\n",
    "magnitudes = []\n",
    "\n",
    "\n",
    "for i,prediction in enumerate(df.prediction):\n",
    "    \n",
    "    \n",
    "    \n",
    "    sentence  = template.format(prediction)\n",
    "    sentiment = predict_sentiment(sentence)\n",
    "    sentences.append(sentence)\n",
    "    try:\n",
    "        scores.append(sentiment.document_sentiment.score)\n",
    "    except Exception as e:\n",
    "        scores.append(np.nan)\n",
    "    try:\n",
    "        magnitudes.append(sentiment.document_sentiment.magnitude)\n",
    "    except Exception as e:\n",
    "        magnitudes.append(np.nan)\n",
    "        \n",
    "    clear_output(wait=True)\n",
    "    print(f\"Progress: {round(100.*i/df.shape[0],2)}%\")\n",
    "    print(sentiment)\n",
    "\n",
    "sentiment_results = pd.DataFrame(data={ 'sentence': sentences,\n",
    "                                        'score':     scores,\n",
    "                                        'magnitude': magnitudes,\n",
    "                                        } )\n",
    "\n",
    "\n",
    "sentiment_results['type']           = df.type\n",
    "sentiment_results['category']       = df.category\n",
    "sentiment_results['model_name']     = df.model\n",
    "sentiment_results['prediction']     = df.prediction\n",
    "sentiment_results['query_sentence'] = df.query_sentence\n",
    "sentiment_results['prefix']         = df.prefix\n",
    "\n",
    "\n",
    "sentiment_results.head(10)"
   ]
  },
  {
   "cell_type": "code",
   "execution_count": null,
   "metadata": {},
   "outputs": [],
   "source": [
    "sentiment_results.sample(n=10)"
   ]
  },
  {
   "cell_type": "markdown",
   "metadata": {},
   "source": [
    "#### Persistance of Results"
   ]
  },
  {
   "cell_type": "code",
   "execution_count": null,
   "metadata": {},
   "outputs": [],
   "source": [
    "OUTPUT_DATA_FILENAME = 'multibert_sentiments.csv'\n",
    "file_name = f'{DATA_DIR}{OUTPUT_DATA_FILENAME}'\n",
    "sentiment_results.to_csv(file_name, sep = '\\t', index = False)"
   ]
  },
  {
   "cell_type": "markdown",
   "metadata": {},
   "source": [
    "##### Words produced by Bert that produced the MOST negative sentiment score of the phrase 'A person is. '"
   ]
  },
  {
   "cell_type": "code",
   "execution_count": null,
   "metadata": {},
   "outputs": [],
   "source": [
    "print(sentiment_results.sort_values(by=['score']).drop_duplicates(subset = ['prediction'], keep='first').head(10).prediction.values)"
   ]
  },
  {
   "cell_type": "code",
   "execution_count": null,
   "metadata": {},
   "outputs": [],
   "source": [
    "sentiment_results.sort_values(by=['score']).drop_duplicates(subset = ['prediction'], keep='first').head(10)"
   ]
  },
  {
   "cell_type": "markdown",
   "metadata": {},
   "source": [
    "#### Frequency calculation"
   ]
  },
  {
   "cell_type": "code",
   "execution_count": null,
   "metadata": {},
   "outputs": [],
   "source": [
    "sentiment_results  = pd.read_csv(f\"{DATA_DIR + OUTPUT_DATA_FILENAME}\", sep='\\t', index_col=False)\n",
    "sentiment_results.head()"
   ]
  },
  {
   "cell_type": "code",
   "execution_count": null,
   "metadata": {},
   "outputs": [],
   "source": [
    "sentiment_results.type.value_counts()"
   ]
  },
  {
   "cell_type": "code",
   "execution_count": null,
   "metadata": {},
   "outputs": [],
   "source": [
    "for e in set(sentiment_results.category):\n",
    "    print(e)"
   ]
  },
  {
   "cell_type": "code",
   "execution_count": null,
   "metadata": {},
   "outputs": [],
   "source": [
    "def getFrequency(df, column_name = 'category', debug = False):\n",
    "\n",
    "    frequencies = {}\n",
    "    for column_value in sorted(set(df[column_name])):\n",
    "        filtered_df = df[df[column_name]==column_value]\n",
    "        #filtered_df = filtered_df.sort_values(by=['score']).drop_duplicates(subset = ['bert_prediction'], keep='first')\n",
    "        total       = filtered_df.shape[0]\n",
    "        negative    = filtered_df[filtered_df.score < 0 ].shape[0]\n",
    "        positive    = filtered_df[filtered_df.score > 0 ].shape[0]\n",
    "        neutral     = filtered_df[filtered_df.score == 0 ].shape[0]\n",
    "        frequency   = negative/(negative+positive+neutral)\n",
    "        frequencies[column_value] = frequency\n",
    "        \n",
    "        if debug:\n",
    "            print(column_value, frequency)\n",
    "\n",
    "    return frequencies\n",
    "\n",
    "frequencies_per_cat = getFrequency(sentiment_results, column_name = 'category', debug = False)\n",
    "frequencies_per_cat"
   ]
  },
  {
   "cell_type": "markdown",
   "metadata": {},
   "source": [
    "### Plot Bar Chart"
   ]
  },
  {
   "cell_type": "code",
   "execution_count": null,
   "metadata": {},
   "outputs": [],
   "source": [
    "import matplotlib.pyplot as plt\n",
    "   \n",
    "categories = list(reversed(frequencies_per_cat.keys()))\n",
    "frequency  = list(reversed(frequencies_per_cat.values()))\n",
    "\n",
    "plt.style.use('default')\n",
    "plt.barh(categories, frequency)\n",
    "plt.title('Frequency of word suggestions with negative sentiment')\n",
    "plt.ylabel('Category')\n",
    "plt.xlabel('Frequency')\n",
    "plt.show()"
   ]
  },
  {
   "cell_type": "code",
   "execution_count": null,
   "metadata": {},
   "outputs": [],
   "source": []
  }
 ],
 "metadata": {
  "kernelspec": {
   "display_name": "Python 3 (ipykernel)",
   "language": "python",
   "name": "python3"
  },
  "language_info": {
   "codemirror_mode": {
    "name": "ipython",
    "version": 3
   },
   "file_extension": ".py",
   "mimetype": "text/x-python",
   "name": "python",
   "nbconvert_exporter": "python",
   "pygments_lexer": "ipython3",
   "version": "3.9.12"
  },
  "vscode": {
   "interpreter": {
    "hash": "88bd46a81829761a1f8655c40b7d07d46ff042d1c1b2d447b6a3515fda4bcd96"
   }
  }
 },
 "nbformat": 4,
 "nbformat_minor": 2
}
