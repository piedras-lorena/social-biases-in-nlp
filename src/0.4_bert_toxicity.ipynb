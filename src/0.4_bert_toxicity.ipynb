{
  "cells": [
    {
      "cell_type": "code",
      "execution_count": 1,
      "metadata": {
        "colab": {
          "base_uri": "https://localhost:8080/"
        },
        "id": "Z6_b-KdHrz4s",
        "outputId": "d00821a2-6c4a-417b-b928-d6c5d0fbb941"
      },
      "outputs": [
        {
          "name": "stdout",
          "output_type": "stream",
          "text": [
            "Looking in indexes: https://pypi.org/simple, https://us-python.pkg.dev/colab-wheels/public/simple/\n",
            "Collecting detoxify\n",
            "  Downloading detoxify-0.5.0-py3-none-any.whl (12 kB)\n",
            "Requirement already satisfied: torch>=1.7.0 in /usr/local/lib/python3.7/dist-packages (from detoxify) (1.12.1+cu113)\n",
            "Collecting sentencepiece>=0.1.94\n",
            "  Downloading sentencepiece-0.1.97-cp37-cp37m-manylinux_2_17_x86_64.manylinux2014_x86_64.whl (1.3 MB)\n",
            "\u001b[K     |████████████████████████████████| 1.3 MB 5.2 MB/s \n",
            "\u001b[?25hCollecting transformers!=4.18.0\n",
            "  Downloading transformers-4.24.0-py3-none-any.whl (5.5 MB)\n",
            "\u001b[K     |████████████████████████████████| 5.5 MB 40.2 MB/s \n",
            "\u001b[?25hRequirement already satisfied: typing-extensions in /usr/local/lib/python3.7/dist-packages (from torch>=1.7.0->detoxify) (4.1.1)\n",
            "Collecting huggingface-hub<1.0,>=0.10.0\n",
            "  Downloading huggingface_hub-0.11.0-py3-none-any.whl (182 kB)\n",
            "\u001b[K     |████████████████████████████████| 182 kB 54.6 MB/s \n",
            "\u001b[?25hRequirement already satisfied: numpy>=1.17 in /usr/local/lib/python3.7/dist-packages (from transformers!=4.18.0->detoxify) (1.21.6)\n",
            "Requirement already satisfied: packaging>=20.0 in /usr/local/lib/python3.7/dist-packages (from transformers!=4.18.0->detoxify) (21.3)\n",
            "Requirement already satisfied: requests in /usr/local/lib/python3.7/dist-packages (from transformers!=4.18.0->detoxify) (2.23.0)\n",
            "Requirement already satisfied: importlib-metadata in /usr/local/lib/python3.7/dist-packages (from transformers!=4.18.0->detoxify) (4.13.0)\n",
            "Requirement already satisfied: filelock in /usr/local/lib/python3.7/dist-packages (from transformers!=4.18.0->detoxify) (3.8.0)\n",
            "Requirement already satisfied: tqdm>=4.27 in /usr/local/lib/python3.7/dist-packages (from transformers!=4.18.0->detoxify) (4.64.1)\n",
            "Requirement already satisfied: pyyaml>=5.1 in /usr/local/lib/python3.7/dist-packages (from transformers!=4.18.0->detoxify) (6.0)\n",
            "Collecting tokenizers!=0.11.3,<0.14,>=0.11.1\n",
            "  Downloading tokenizers-0.13.2-cp37-cp37m-manylinux_2_17_x86_64.manylinux2014_x86_64.whl (7.6 MB)\n",
            "\u001b[K     |████████████████████████████████| 7.6 MB 40.8 MB/s \n",
            "\u001b[?25hRequirement already satisfied: regex!=2019.12.17 in /usr/local/lib/python3.7/dist-packages (from transformers!=4.18.0->detoxify) (2022.6.2)\n",
            "Requirement already satisfied: pyparsing!=3.0.5,>=2.0.2 in /usr/local/lib/python3.7/dist-packages (from packaging>=20.0->transformers!=4.18.0->detoxify) (3.0.9)\n",
            "Requirement already satisfied: zipp>=0.5 in /usr/local/lib/python3.7/dist-packages (from importlib-metadata->transformers!=4.18.0->detoxify) (3.10.0)\n",
            "Requirement already satisfied: urllib3!=1.25.0,!=1.25.1,<1.26,>=1.21.1 in /usr/local/lib/python3.7/dist-packages (from requests->transformers!=4.18.0->detoxify) (1.24.3)\n",
            "Requirement already satisfied: certifi>=2017.4.17 in /usr/local/lib/python3.7/dist-packages (from requests->transformers!=4.18.0->detoxify) (2022.9.24)\n",
            "Requirement already satisfied: idna<3,>=2.5 in /usr/local/lib/python3.7/dist-packages (from requests->transformers!=4.18.0->detoxify) (2.10)\n",
            "Requirement already satisfied: chardet<4,>=3.0.2 in /usr/local/lib/python3.7/dist-packages (from requests->transformers!=4.18.0->detoxify) (3.0.4)\n",
            "Installing collected packages: tokenizers, huggingface-hub, transformers, sentencepiece, detoxify\n",
            "Successfully installed detoxify-0.5.0 huggingface-hub-0.11.0 sentencepiece-0.1.97 tokenizers-0.13.2 transformers-4.24.0\n"
          ]
        }
      ],
      "source": [
        "!pip install detoxify"
      ]
    },
    {
      "cell_type": "code",
      "execution_count": 1,
      "metadata": {
        "id": "aDuLyf2_tATQ"
      },
      "outputs": [],
      "source": [
        "from detoxify import Detoxify\n",
        "import pandas as pd\n",
        "from tqdm import tqdm"
      ]
    },
    {
      "cell_type": "code",
      "execution_count": null,
      "metadata": {
        "id": "6ZQ0LBxNr_kX"
      },
      "outputs": [],
      "source": [
        "toxiticy_model = Detoxify('multilingual')"
      ]
    },
    {
      "cell_type": "code",
      "execution_count": 3,
      "metadata": {
        "id": "697iodpNs51d"
      },
      "outputs": [],
      "source": [
        "data = pd.read_csv('../data/batches.csv')"
      ]
    },
    {
      "cell_type": "code",
      "execution_count": 4,
      "metadata": {
        "id": "FOk06wHQtF_G"
      },
      "outputs": [],
      "source": [
        "batches = []\n",
        "for b in set(data.batch.to_numpy()):\n",
        "    batches.append(data.query(f'batch == {b}'))"
      ]
    },
    {
      "cell_type": "code",
      "execution_count": 5,
      "metadata": {
        "colab": {
          "base_uri": "https://localhost:8080/"
        },
        "id": "6a8OK_Rot744",
        "outputId": "343c3650-6ef4-4c30-9f97-ba54330f5bf8"
      },
      "outputs": [
        {
          "name": "stdout",
          "output_type": "stream",
          "text": [
            "Running for 30 batches\n"
          ]
        },
        {
          "name": "stderr",
          "output_type": "stream",
          "text": [
            "\r  0%|          | 0/30 [00:00<?, ?it/s]"
          ]
        },
        {
          "name": "stdout",
          "output_type": "stream",
          "text": [
            "Running for batch 0\n"
          ]
        },
        {
          "name": "stderr",
          "output_type": "stream",
          "text": [
            "\r  3%|▎         | 1/30 [02:47<1:20:47, 167.14s/it]"
          ]
        },
        {
          "name": "stdout",
          "output_type": "stream",
          "text": [
            "Running for batch 1\n"
          ]
        },
        {
          "name": "stderr",
          "output_type": "stream",
          "text": [
            "\r  7%|▋         | 2/30 [04:36<1:02:04, 133.03s/it]"
          ]
        },
        {
          "name": "stdout",
          "output_type": "stream",
          "text": [
            "Running for batch 2\n"
          ]
        },
        {
          "name": "stderr",
          "output_type": "stream",
          "text": [
            "\r 10%|█         | 3/30 [07:00<1:02:04, 137.96s/it]"
          ]
        },
        {
          "name": "stdout",
          "output_type": "stream",
          "text": [
            "Running for batch 3\n"
          ]
        },
        {
          "name": "stderr",
          "output_type": "stream",
          "text": [
            "\r 13%|█▎        | 4/30 [08:58<56:22, 130.11s/it]  "
          ]
        },
        {
          "name": "stdout",
          "output_type": "stream",
          "text": [
            "Running for batch 4\n"
          ]
        },
        {
          "name": "stderr",
          "output_type": "stream",
          "text": [
            "\r 17%|█▋        | 5/30 [11:25<56:48, 136.35s/it]"
          ]
        },
        {
          "name": "stdout",
          "output_type": "stream",
          "text": [
            "Running for batch 5\n"
          ]
        },
        {
          "name": "stderr",
          "output_type": "stream",
          "text": [
            "\r 20%|██        | 6/30 [13:24<52:06, 130.28s/it]"
          ]
        },
        {
          "name": "stdout",
          "output_type": "stream",
          "text": [
            "Running for batch 6\n"
          ]
        },
        {
          "name": "stderr",
          "output_type": "stream",
          "text": [
            "\r 23%|██▎       | 7/30 [15:16<47:45, 124.57s/it]"
          ]
        },
        {
          "name": "stdout",
          "output_type": "stream",
          "text": [
            "Running for batch 7\n"
          ]
        },
        {
          "name": "stderr",
          "output_type": "stream",
          "text": [
            "\r 27%|██▋       | 8/30 [17:45<48:26, 132.10s/it]"
          ]
        },
        {
          "name": "stdout",
          "output_type": "stream",
          "text": [
            "Running for batch 8\n"
          ]
        },
        {
          "name": "stderr",
          "output_type": "stream",
          "text": [
            "\r 30%|███       | 9/30 [19:34<43:41, 124.85s/it]"
          ]
        },
        {
          "name": "stdout",
          "output_type": "stream",
          "text": [
            "Running for batch 9\n"
          ]
        },
        {
          "name": "stderr",
          "output_type": "stream",
          "text": [
            "\r 33%|███▎      | 10/30 [21:11<38:48, 116.41s/it]"
          ]
        },
        {
          "name": "stdout",
          "output_type": "stream",
          "text": [
            "Running for batch 10\n"
          ]
        },
        {
          "name": "stderr",
          "output_type": "stream",
          "text": [
            "\r 37%|███▋      | 11/30 [23:47<40:41, 128.52s/it]"
          ]
        },
        {
          "name": "stdout",
          "output_type": "stream",
          "text": [
            "Running for batch 11\n"
          ]
        },
        {
          "name": "stderr",
          "output_type": "stream",
          "text": [
            "\r 40%|████      | 12/30 [26:05<39:27, 131.51s/it]"
          ]
        },
        {
          "name": "stdout",
          "output_type": "stream",
          "text": [
            "Running for batch 12\n"
          ]
        },
        {
          "name": "stderr",
          "output_type": "stream",
          "text": [
            "\r 43%|████▎     | 13/30 [28:29<38:20, 135.31s/it]"
          ]
        },
        {
          "name": "stdout",
          "output_type": "stream",
          "text": [
            "Running for batch 13\n"
          ]
        },
        {
          "name": "stderr",
          "output_type": "stream",
          "text": [
            "\r 47%|████▋     | 14/30 [30:33<35:09, 131.82s/it]"
          ]
        },
        {
          "name": "stdout",
          "output_type": "stream",
          "text": [
            "Running for batch 14\n"
          ]
        },
        {
          "name": "stderr",
          "output_type": "stream",
          "text": [
            "\r 50%|█████     | 15/30 [32:35<32:12, 128.81s/it]"
          ]
        },
        {
          "name": "stdout",
          "output_type": "stream",
          "text": [
            "Running for batch 15\n"
          ]
        },
        {
          "name": "stderr",
          "output_type": "stream",
          "text": [
            "\r 53%|█████▎    | 16/30 [35:16<32:19, 138.52s/it]"
          ]
        },
        {
          "name": "stdout",
          "output_type": "stream",
          "text": [
            "Running for batch 16\n"
          ]
        },
        {
          "name": "stderr",
          "output_type": "stream",
          "text": [
            "\r 57%|█████▋    | 17/30 [37:39<30:18, 139.91s/it]"
          ]
        },
        {
          "name": "stdout",
          "output_type": "stream",
          "text": [
            "Running for batch 17\n"
          ]
        },
        {
          "name": "stderr",
          "output_type": "stream",
          "text": [
            "\r 60%|██████    | 18/30 [39:44<27:04, 135.35s/it]"
          ]
        },
        {
          "name": "stdout",
          "output_type": "stream",
          "text": [
            "Running for batch 18\n"
          ]
        },
        {
          "name": "stderr",
          "output_type": "stream",
          "text": [
            "\r 63%|██████▎   | 19/30 [41:59<24:46, 135.09s/it]"
          ]
        },
        {
          "name": "stdout",
          "output_type": "stream",
          "text": [
            "Running for batch 19\n"
          ]
        },
        {
          "name": "stderr",
          "output_type": "stream",
          "text": [
            "\r 67%|██████▋   | 20/30 [44:07<22:12, 133.22s/it]"
          ]
        },
        {
          "name": "stdout",
          "output_type": "stream",
          "text": [
            "Running for batch 20\n"
          ]
        },
        {
          "name": "stderr",
          "output_type": "stream",
          "text": [
            "\r 70%|███████   | 21/30 [47:08<22:06, 147.34s/it]"
          ]
        },
        {
          "name": "stdout",
          "output_type": "stream",
          "text": [
            "Running for batch 21\n"
          ]
        },
        {
          "name": "stderr",
          "output_type": "stream",
          "text": [
            "\r 73%|███████▎  | 22/30 [49:34<19:35, 146.91s/it]"
          ]
        },
        {
          "name": "stdout",
          "output_type": "stream",
          "text": [
            "Running for batch 22\n"
          ]
        },
        {
          "name": "stderr",
          "output_type": "stream",
          "text": [
            "\r 77%|███████▋  | 23/30 [51:18<15:39, 134.28s/it]"
          ]
        },
        {
          "name": "stdout",
          "output_type": "stream",
          "text": [
            "Running for batch 23\n"
          ]
        },
        {
          "name": "stderr",
          "output_type": "stream",
          "text": [
            "\r 80%|████████  | 24/30 [52:51<12:10, 121.77s/it]"
          ]
        },
        {
          "name": "stdout",
          "output_type": "stream",
          "text": [
            "Running for batch 24\n"
          ]
        },
        {
          "name": "stderr",
          "output_type": "stream",
          "text": [
            "\r 83%|████████▎ | 25/30 [55:03<10:24, 125.00s/it]"
          ]
        },
        {
          "name": "stdout",
          "output_type": "stream",
          "text": [
            "Running for batch 25\n"
          ]
        },
        {
          "name": "stderr",
          "output_type": "stream",
          "text": [
            "\r 87%|████████▋ | 26/30 [56:49<07:56, 119.06s/it]"
          ]
        },
        {
          "name": "stdout",
          "output_type": "stream",
          "text": [
            "Running for batch 26\n"
          ]
        },
        {
          "name": "stderr",
          "output_type": "stream",
          "text": [
            "\r 90%|█████████ | 27/30 [58:59<06:07, 122.54s/it]"
          ]
        },
        {
          "name": "stdout",
          "output_type": "stream",
          "text": [
            "Running for batch 27\n"
          ]
        },
        {
          "name": "stderr",
          "output_type": "stream",
          "text": [
            "\r 93%|█████████▎| 28/30 [1:02:23<04:53, 146.90s/it]"
          ]
        },
        {
          "name": "stdout",
          "output_type": "stream",
          "text": [
            "Running for batch 28\n"
          ]
        },
        {
          "name": "stderr",
          "output_type": "stream",
          "text": [
            "\r 97%|█████████▋| 29/30 [1:04:40<02:24, 144.01s/it]"
          ]
        },
        {
          "name": "stdout",
          "output_type": "stream",
          "text": [
            "Running for batch 29\n"
          ]
        },
        {
          "name": "stderr",
          "output_type": "stream",
          "text": [
            "100%|██████████| 30/30 [1:07:38<00:00, 135.27s/it]\n"
          ]
        }
      ],
      "source": [
        "n = len(batches)\n",
        "print(f'Running for {n} batches')\n",
        "for i,batch in enumerate(tqdm(batches)):\n",
        "    print(f'Running for batch {i}')\n",
        "    sentences = batch.sentence.to_list()\n",
        "    batch = batch.assign(\n",
        "        bert_toxicity=toxiticy_model.predict(sentences)['toxicity']\n",
        "        )\n",
        "    n_batch = batch.batch.unique()[0]\n",
        "    batch.to_csv(f'../data/bert_toxicity_classification_{n_batch}.csv', index=False)"
      ]
    },
    {
      "cell_type": "code",
      "execution_count": 6,
      "metadata": {
        "id": "lSslJbm00HBJ"
      },
      "outputs": [],
      "source": [
        "from glob import glob"
      ]
    },
    {
      "cell_type": "code",
      "execution_count": 7,
      "metadata": {
        "id": "Y1S7igek0MLT"
      },
      "outputs": [],
      "source": [
        "files = glob('../data/bert_toxicity_classification_*')\n",
        "all_toxicity = pd.concat([pd.read_csv(file_) for file_ in files])"
      ]
    },
    {
      "cell_type": "code",
      "execution_count": 8,
      "metadata": {
        "id": "NBLUGyux0X7W"
      },
      "outputs": [],
      "source": [
        "all_toxicity.to_csv('../data/bert_toxicity_classification.csv', index=False)"
      ]
    },
    {
      "cell_type": "markdown",
      "metadata": {
        "id": "zhI5ZFkiFUpb"
      },
      "source": [
        "# Comparisson against Perspective API"
      ]
    },
    {
      "cell_type": "code",
      "execution_count": 2,
      "metadata": {},
      "outputs": [],
      "source": [
        "import matplotlib.pyplot as plt\n",
        "import pandas as pd\n",
        "import seaborn as sns"
      ]
    },
    {
      "cell_type": "code",
      "execution_count": 3,
      "metadata": {},
      "outputs": [],
      "source": [
        "bert_toxicity = pd.read_csv('../data/bert_toxicity_classification.csv')\n",
        "original_sentences = bert_toxicity.loc[\n",
        "    bert_toxicity.variable == 'original_sentence']\n",
        "modified_sentences = bert_toxicity.loc[\n",
        "    bert_toxicity.variable != 'original_sentence']\n",
        "original_sentences = original_sentences.filter(\n",
        "    ['original', 'bert_toxicity']).rename(columns={'bert_toxicity':'original_toxicity'})\n",
        "\n",
        "comparative_toxicity = pd.pivot(\n",
        "    modified_sentences, \n",
        "    index=['op_gender', 'subreddit', 'original', 'category'],\n",
        "    columns=['variable'],\n",
        "    values=['sentence', 'bert_toxicity']\n",
        "    ).reset_index()"
      ]
    },
    {
      "cell_type": "code",
      "execution_count": 4,
      "metadata": {},
      "outputs": [],
      "source": [
        "col_names = []\n",
        "for col in comparative_toxicity.columns:\n",
        "    if col[0] == 'bert_toxicity':\n",
        "        col_name = col[1] + '_'+ col[0]\n",
        "    elif col[0] == 'sentence':\n",
        "        col_name = col[1]\n",
        "    else:\n",
        "        col_name = col[0]\n",
        "    col_names.append(col_name)\n",
        "\n",
        "comparative_toxicity.columns = col_names\n",
        "comparative_toxicity = comparative_toxicity.merge(\n",
        "    original_sentences,\n",
        "    on='original'\n",
        ")"
      ]
    },
    {
      "cell_type": "code",
      "execution_count": 5,
      "metadata": {},
      "outputs": [],
      "source": [
        "perspective_toxicity = pd.read_csv('../data/toxicity_classification.csv')"
      ]
    },
    {
      "cell_type": "code",
      "execution_count": 6,
      "metadata": {},
      "outputs": [],
      "source": [
        "bert_toxicity = comparative_toxicity.assign(\n",
        "    score_diff_recommended_bert =comparative_toxicity.recommended_sentence_bert_toxicity - comparative_toxicity.original_toxicity,\n",
        "    score_diff_not_recommended_bert = comparative_toxicity.non_recommended_sentence_bert_toxicity - comparative_toxicity.original_toxicity\n",
        ")\n",
        "perspective_toxicity = perspective_toxicity.assign(\n",
        "    score_diff_recommended_persp = perspective_toxicity.recommended_sentence_toxicity_score - perspective_toxicity.original_toxicity,\n",
        "    score_diff_not_recommended_persp = perspective_toxicity.non_recommended_sentence_toxicity_score - perspective_toxicity.original_toxicity\n",
        ")"
      ]
    },
    {
      "cell_type": "code",
      "execution_count": 7,
      "metadata": {},
      "outputs": [],
      "source": [
        "perspective_toxicity = perspective_toxicity.loc[\n",
        "    :,[\n",
        "        'original', 'category', \n",
        "        'non_recommended_sentence', 'recommended_sentence',\n",
        "        'score_diff_recommended_persp', 'score_diff_not_recommended_persp'\n",
        "        ]]"
      ]
    },
    {
      "cell_type": "code",
      "execution_count": 8,
      "metadata": {},
      "outputs": [],
      "source": [
        "bert_toxicity = bert_toxicity.loc[\n",
        "    :,[\n",
        "        'original', 'category', \n",
        "        'non_recommended_sentence', 'recommended_sentence',\n",
        "        'score_diff_recommended_bert', 'score_diff_not_recommended_bert'\n",
        "        ]]\n",
        "all_toxicity = perspective_toxicity.merge(\n",
        "    bert_toxicity,\n",
        "    on=[\n",
        "        'original', 'category', \n",
        "        'non_recommended_sentence', 'recommended_sentence']\n",
        ")"
      ]
    },
    {
      "cell_type": "code",
      "execution_count": 9,
      "metadata": {},
      "outputs": [
        {
          "name": "stdout",
          "output_type": "stream",
          "text": [
            "---- Perspective Results:\n",
            "non rec:0.13358023805388455\n",
            "rec:0.09622199889300005\n",
            "---- Bert Results:\n",
            "non rec:0.13828778356793023\n",
            "rec:0.01887166542729224\n"
          ]
        }
      ],
      "source": [
        "print('-'*4+' Perspective Results:')\n",
        "print('non rec:{}'.format(all_toxicity.score_diff_not_recommended_persp.mean()))\n",
        "print('rec:{}'.format(all_toxicity.score_diff_recommended_persp.mean()))\n",
        "\n",
        "print('-'*4+' Bert Results:')\n",
        "print('non rec:{}'.format(all_toxicity.score_diff_not_recommended_bert.mean()))\n",
        "print('rec:{}'.format(all_toxicity.score_diff_recommended_bert.mean()))"
      ]
    },
    {
      "cell_type": "code",
      "execution_count": 10,
      "metadata": {},
      "outputs": [],
      "source": [
        "variable_name_map = {\n",
        "    'score_diff_recommended_persp': 'recommended',\n",
        "    'score_diff_not_recommended_persp': 'not recommended'\n",
        "}\n",
        "toxicity_plot = all_toxicity.melt(id_vars=['category'], value_vars=['score_diff_recommended_persp', 'score_diff_not_recommended_persp'])\n",
        "toxicity_plot['variable'] = toxicity_plot.variable.map(variable_name_map)"
      ]
    },
    {
      "cell_type": "code",
      "execution_count": 11,
      "metadata": {},
      "outputs": [
        {
          "data": {
            "image/png": "[encoded data removed]",
            "text/plain": [
              "<Figure size 432x288 with 1 Axes>"
            ]
          },
          "metadata": {
            "needs_background": "light"
          },
          "output_type": "display_data"
        }
      ],
      "source": [
        "fig, ax = plt.subplots()\n",
        "sns.pointplot(\n",
        "    data=toxicity_plot, x=\"value\", y=\"category\", hue='variable',\n",
        "    errorbar=(\"ci\", 95), capsize=.4, join=False, color=\".5\",\n",
        ")\n",
        "plt.legend(title='')\n",
        "plt.xlabel('score_diff')\n",
        "fig.tight_layout()\n",
        "plt.savefig('../data/score_diff_perspective.png')"
      ]
    },
    {
      "cell_type": "code",
      "execution_count": 12,
      "metadata": {},
      "outputs": [],
      "source": [
        "variable_name_map = {\n",
        "    'score_diff_recommended_bert': 'recommended',\n",
        "    'score_diff_not_recommended_bert': 'not recommended'\n",
        "}\n",
        "toxicity_plot = all_toxicity.melt(id_vars=['category'], value_vars=['score_diff_recommended_bert', 'score_diff_not_recommended_bert'])\n",
        "toxicity_plot['variable'] = toxicity_plot.variable.map(variable_name_map)"
      ]
    },
    {
      "cell_type": "code",
      "execution_count": 13,
      "metadata": {},
      "outputs": [
        {
          "data": {
            "image/png": "[encoded data removed]",
            "text/plain": [
              "<Figure size 432x288 with 1 Axes>"
            ]
          },
          "metadata": {
            "needs_background": "light"
          },
          "output_type": "display_data"
        }
      ],
      "source": [
        "fig, ax = plt.subplots()\n",
        "sns.pointplot(\n",
        "    data=toxicity_plot, x=\"value\", y=\"category\", hue='variable',\n",
        "    errorbar=(\"ci\", 95), capsize=.4, join=False, color=\".5\",\n",
        ")\n",
        "plt.legend(title='')\n",
        "plt.xlabel('score_diff')\n",
        "fig.tight_layout()\n",
        "plt.savefig('../data/score_diff_bert.png')"
      ]
    },
    {
      "cell_type": "code",
      "execution_count": null,
      "metadata": {},
      "outputs": [],
      "source": []
    }
  ],
  "metadata": {
    "colab": {
      "provenance": []
    },
    "gpuClass": "standard",
    "kernelspec": {
      "display_name": "Python 3.7.5 ('social-biases-nlp')",
      "language": "python",
      "name": "python3"
    },
    "language_info": {
      "codemirror_mode": {
        "name": "ipython",
        "version": 3
      },
      "file_extension": ".py",
      "mimetype": "text/x-python",
      "name": "python",
      "nbconvert_exporter": "python",
      "pygments_lexer": "ipython3",
      "version": "3.7.5"
    },
    "vscode": {
      "interpreter": {
        "hash": "dd72e8e2aaf53991ca0387625b715bfafc32c7f5349076efcff04c3ae2963a66"
      }
    }
  },
  "nbformat": 4,
  "nbformat_minor": 0
}
