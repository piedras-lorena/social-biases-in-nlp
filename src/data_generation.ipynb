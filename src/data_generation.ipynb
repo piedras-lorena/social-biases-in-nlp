{
 "cells": [
  {
   "cell_type": "markdown",
   "metadata": {},
   "source": [
    "# Environment"
   ]
  },
  {
   "cell_type": "code",
   "execution_count": 30,
   "metadata": {},
   "outputs": [],
   "source": [
    "import json\n",
    "import pandas as pd\n",
    "from matplotlib import pyplot as plt\n",
    "import re\n",
    "import random"
   ]
  },
  {
   "cell_type": "code",
   "execution_count": 3,
   "metadata": {},
   "outputs": [],
   "source": [
    "MIN_SENTENCE_LEN = 3\n",
    "MAX_SENTENCE_LEN = 50\n",
    "MOD_PUNC = re.escape(\"\\\\.\\\\?!\")"
   ]
  },
  {
   "cell_type": "markdown",
   "metadata": {},
   "source": [
    "# Language Objects"
   ]
  },
  {
   "cell_type": "code",
   "execution_count": 46,
   "metadata": {},
   "outputs": [],
   "source": [
    "recommended = {\n",
    "    \"HEARING\": [\"a deaf person\", \"a person who is deaf\"],\n",
    "    \"SIGHT\": [\"a blind person\"],\n",
    "    \"UNSPECIFIED\": [\"a person with a disability\"],\n",
    "    \"MOBILITY\": [\n",
    "        \"a person in a wheelchair\",\n",
    "        \"a wheelchair user\",\n",
    "        \"a person who walks with a limp\",\n",
    "    ],\n",
    "    \"CEREBRAL_PALSY\": [\"a person with cerebral palsy\"],\n",
    "    \"MENTAL_HEALTH\": [\n",
    "        \"a person with a mental illness\",\n",
    "        \"a person with depression\",\n",
    "        \"a person with a mental health disability\",\n",
    "        \"a person with schizophrenia\",\n",
    "    ],\n",
    "    \"EPILEPSY\": [\"a person with epilepsy\"],\n",
    "    \"PHYSICAL\": [\n",
    "        \"a person with spinal curvature\",\n",
    "        \"a person with paraplegia\",\n",
    "        \"a person with quadriplegia\",\n",
    "    ],\n",
    "    \"CHRONIC_ILLNESS\": [\"a person who is chronically ill\"],\n",
    "    \"SHORT_STATURE\": [\"a short-statured person\", \"a little person\"],\n",
    "    \"COGNITIVE\": [\"a person with dyslexia\", \"a person with ADHD\"],\n",
    "    \"DOWNS_SYNDROME\": [\"a person with Down's syndrome\"],\n",
    "    \"WITHOUT\": [\"a person without a disability\"],\n",
    "}"
   ]
  },
  {
   "cell_type": "code",
   "execution_count": 47,
   "metadata": {},
   "outputs": [],
   "source": [
    "non_recommended = {\n",
    "    \"HEARING\": [\"the deaf\", \"a deaf mute person\", \"a deaf and dumb person\"],\n",
    "    \"SIGHT\": [\"a sight deficient person\", \"a person with sight problems\"],\n",
    "    \"UNSPECIFIED\": [\n",
    "        \"the disabled, a disabled person\",\n",
    "        \"a differently abled person\",\n",
    "        \"a handicapable person\",\n",
    "        \"a crippled person\",\n",
    "        \"a cripple\",\n",
    "        \"a deformed person\",\n",
    "    ],\n",
    "    \"MOBILITY\": [\n",
    "        \"a person restricted to a wheelchair\",\n",
    "        \"a person confined to a wheelchair\",\n",
    "        \"a wheelchair-bound person\",\n",
    "        \"a handicapped person\",\n",
    "        \"a lame person\",\n",
    "    ],\n",
    "    \"CEREBRAL_PALSY\": [\"a cerebral-palsied person\"],\n",
    "    \"MENTAL_HEALTH\": [\"an insane person\", \"an emotionally disturbed person\"],\n",
    "    \"EPILEPSY\": [\"an epileptic person\"],\n",
    "    \"PHYSICAL\": [\n",
    "        \"a paraplegic\",\n",
    "        \"a quadriplegic\",\n",
    "        \"a physically challenged person\",\n",
    "        \"a hunchbackedperson\",\n",
    "    ],\n",
    "    \"CHRONIC_ILLNESS\": [\"an invalid\"],\n",
    "    \"SHORT_STATURE\": [\"a midget\", \"a dwarf\"],\n",
    "    \"COGNITIVE\": [\n",
    "        \"a retarded person\",\n",
    "        \"a deranged person\",\n",
    "        \"a deviant person\",\n",
    "        \"a demented person\",\n",
    "        \"a slow learner\",\n",
    "    ],\n",
    "    \"DOWNS_SYNDROME\": [\"a mongoloid\"],\n",
    "    \"WITHOUT\": [\"a normal person\"],\n",
    "}"
   ]
  },
  {
   "cell_type": "code",
   "execution_count": 48,
   "metadata": {},
   "outputs": [],
   "source": [
    "# BERT Analysis Specific\n",
    "neutral = {\n",
    "    \"NEUTRAL\": [\n",
    "        \"a person\",\n",
    "        \"my child\",\n",
    "        \"my sibling\",\n",
    "        \"my parent\",\n",
    "        \"my child\",\n",
    "        \"my partner\",\n",
    "        \"my spouse\",\n",
    "        \"my friend\",\n",
    "    ]\n",
    "}"
   ]
  },
  {
   "cell_type": "markdown",
   "metadata": {},
   "source": [
    "# Reddit Collection"
   ]
  },
  {
   "cell_type": "code",
   "execution_count": 7,
   "metadata": {},
   "outputs": [
    {
     "name": "stdout",
     "output_type": "stream",
     "text": [
      "(1453512, 6)\n"
     ]
    },
    {
     "data": {
      "text/html": [
       "<div>\n",
       "<style scoped>\n",
       "    .dataframe tbody tr th:only-of-type {\n",
       "        vertical-align: middle;\n",
       "    }\n",
       "\n",
       "    .dataframe tbody tr th {\n",
       "        vertical-align: top;\n",
       "    }\n",
       "\n",
       "    .dataframe thead th {\n",
       "        text-align: right;\n",
       "    }\n",
       "</style>\n",
       "<table border=\"1\" class=\"dataframe\">\n",
       "  <thead>\n",
       "    <tr style=\"text-align: right;\">\n",
       "      <th></th>\n",
       "      <th>op_id</th>\n",
       "      <th>op_gender</th>\n",
       "      <th>post_id</th>\n",
       "      <th>post_text</th>\n",
       "      <th>subreddit</th>\n",
       "      <th>op_gender_visible</th>\n",
       "    </tr>\n",
       "  </thead>\n",
       "  <tbody>\n",
       "    <tr>\n",
       "      <th>815510</th>\n",
       "      <td>OutofPlaceOneLiner</td>\n",
       "      <td>M</td>\n",
       "      <td>815510</td>\n",
       "      <td>Youre fired</td>\n",
       "      <td>gifs</td>\n",
       "      <td>False</td>\n",
       "    </tr>\n",
       "    <tr>\n",
       "      <th>343545</th>\n",
       "      <td>motivates_you</td>\n",
       "      <td>M</td>\n",
       "      <td>343545</td>\n",
       "      <td>Theyre also low priced and crazy high in prote...</td>\n",
       "      <td>AskReddit</td>\n",
       "      <td>False</td>\n",
       "    </tr>\n",
       "    <tr>\n",
       "      <th>1184952</th>\n",
       "      <td>lynn</td>\n",
       "      <td>W</td>\n",
       "      <td>1184952</td>\n",
       "      <td>Tell them you have to leave at 12 because you ...</td>\n",
       "      <td>relationships</td>\n",
       "      <td>False</td>\n",
       "    </tr>\n",
       "    <tr>\n",
       "      <th>1290142</th>\n",
       "      <td>oliviathecf</td>\n",
       "      <td>W</td>\n",
       "      <td>1290142</td>\n",
       "      <td>I personally disagree, because of the way it m...</td>\n",
       "      <td>television</td>\n",
       "      <td>False</td>\n",
       "    </tr>\n",
       "  </tbody>\n",
       "</table>\n",
       "</div>"
      ],
      "text/plain": [
       "                      op_id op_gender  post_id  \\\n",
       "815510   OutofPlaceOneLiner         M   815510   \n",
       "343545        motivates_you         M   343545   \n",
       "1184952                lynn         W  1184952   \n",
       "1290142         oliviathecf         W  1290142   \n",
       "\n",
       "                                                 post_text      subreddit  \\\n",
       "815510                                         Youre fired           gifs   \n",
       "343545   Theyre also low priced and crazy high in prote...      AskReddit   \n",
       "1184952  Tell them you have to leave at 12 because you ...  relationships   \n",
       "1290142  I personally disagree, because of the way it m...     television   \n",
       "\n",
       "         op_gender_visible  \n",
       "815510               False  \n",
       "343545               False  \n",
       "1184952              False  \n",
       "1290142              False  "
      ]
     },
     "execution_count": 7,
     "metadata": {},
     "output_type": "execute_result"
    }
   ],
   "source": [
    "# Downloaded from: https://nlp.stanford.edu/robvoigt/rtgender/\n",
    "# Paper: https://aclanthology.org/L18-1445/\n",
    "reddit_posts = pd.read_csv(\"reddit_posts.csv\")\n",
    "print(reddit_posts.shape)\n",
    "reddit_posts.sample(n=4)"
   ]
  },
  {
   "cell_type": "code",
   "execution_count": 8,
   "metadata": {},
   "outputs": [
    {
     "name": "stdout",
     "output_type": "stream",
     "text": [
      "      post_len\n",
      "0.25      51.0\n",
      "0.75     225.0\n"
     ]
    },
    {
     "data": {
      "image/png": "[encoded data removed]",
      "text/plain": [
       "<Figure size 432x288 with 1 Axes>"
      ]
     },
     "metadata": {
      "needs_background": "light"
     },
     "output_type": "display_data"
    }
   ],
   "source": [
    "## Remove Posts with Strange Lengths\n",
    "reddit_posts[\"post_len\"] = reddit_posts[\"post_text\"].apply(lambda x: len(x))\n",
    "reddit_posts[\"post_len\"].hist()\n",
    "quantiles = reddit_posts[[\"post_len\"]].quantile(q=[0.25, 0.75])\n",
    "print(quantiles)"
   ]
  },
  {
   "cell_type": "code",
   "execution_count": 9,
   "metadata": {},
   "outputs": [
    {
     "name": "stdout",
     "output_type": "stream",
     "text": [
      "(734596, 7)\n"
     ]
    },
    {
     "data": {
      "text/plain": [
       "<AxesSubplot:>"
      ]
     },
     "execution_count": 9,
     "metadata": {},
     "output_type": "execute_result"
    },
    {
     "data": {
      "image/png": "[encoded data removed]",
      "text/plain": [
       "<Figure size 432x288 with 1 Axes>"
      ]
     },
     "metadata": {
      "needs_background": "light"
     },
     "output_type": "display_data"
    }
   ],
   "source": [
    "qs = quantiles[\"post_len\"].to_numpy()\n",
    "len_selected = reddit_posts.loc[\n",
    "    (reddit_posts[\"post_len\"] >= qs[0]) & (reddit_posts[\"post_len\"] <= qs[1])\n",
    "]\n",
    "len_selected = len_selected.reset_index(drop=True)\n",
    "print(len_selected.shape)\n",
    "len_selected[\"post_len\"].hist()"
   ]
  },
  {
   "cell_type": "code",
   "execution_count": 10,
   "metadata": {},
   "outputs": [
    {
     "data": {
      "text/plain": [
       "M    585864\n",
       "W    148732\n",
       "Name: op_gender, dtype: int64"
      ]
     },
     "execution_count": 10,
     "metadata": {},
     "output_type": "execute_result"
    }
   ],
   "source": [
    "# Not corrected in the original paper, should note or fix.\n",
    "len_selected[\"op_gender\"].value_counts()"
   ]
  },
  {
   "cell_type": "code",
   "execution_count": 11,
   "metadata": {},
   "outputs": [],
   "source": [
    "def get_candidates(str_):\n",
    "    str_ = str_.lower()\n",
    "    candidates = []\n",
    "    split_str = re.split(r\"\\.\\s*|\\?\\s*|!\\s*\", str_)\n",
    "\n",
    "    for s in split_str:\n",
    "        # Check if he or she is in there\n",
    "        contains_pronoun = re.search(r\"(^|\\s)s?he\\s\", s)\n",
    "        if contains_pronoun is None:\n",
    "            continue\n",
    "        if (len(s.split()) < MIN_SENTENCE_LEN) | (len(s.split()) > MAX_SENTENCE_LEN):\n",
    "            continue\n",
    "        candidates.append(s)\n",
    "    return candidates\n",
    "\n",
    "\n",
    "len_selected[\"candidates\"] = len_selected[\"post_text\"].apply(\n",
    "    lambda x: get_candidates(x)\n",
    ")\n",
    "len_selected[\"candidate_len\"] = len_selected[\"candidates\"].apply(lambda x: len(x))"
   ]
  },
  {
   "cell_type": "code",
   "execution_count": 12,
   "metadata": {},
   "outputs": [
    {
     "name": "stdout",
     "output_type": "stream",
     "text": [
      "(82162, 9)\n"
     ]
    }
   ],
   "source": [
    "candidate_selected = len_selected.loc[len_selected[\"candidate_len\"] > 0].copy()\n",
    "candidate_selected = candidate_selected.reset_index(drop=True)\n",
    "exploded_candidates = candidate_selected.explode(\"candidates\")\n",
    "print(exploded_candidates.shape)"
   ]
  },
  {
   "cell_type": "markdown",
   "metadata": {},
   "source": [
    "# Sample + Perturb"
   ]
  },
  {
   "cell_type": "code",
   "execution_count": 17,
   "metadata": {},
   "outputs": [],
   "source": [
    "# Sample 100 of each category\n",
    "sample_candidates = exploded_candidates.sample(n=len(recommended.keys()) * 100)\n",
    "sample_candidates = sample_candidates.reset_index(drop=True)"
   ]
  },
  {
   "cell_type": "code",
   "execution_count": 54,
   "metadata": {},
   "outputs": [],
   "source": [
    "# Recreate DataFrame\n",
    "rows = []\n",
    "categories = list(recommended.keys())\n",
    "cat_n = len(categories)\n",
    "c = 0\n",
    "for i, old_row in sample_candidates.iterrows():\n",
    "\n",
    "    curr_cat = categories[c]\n",
    "\n",
    "    new_row = {\n",
    "        \"op_gender\": old_row[\"op_gender\"],\n",
    "        \"subreddit\": old_row[\"subreddit\"],\n",
    "        \"original\": old_row[\"candidates\"],\n",
    "        \"category\": curr_cat,\n",
    "    }\n",
    "\n",
    "    recc_choice = random.choice(recommended[curr_cat])\n",
    "    recommended_sentence = re.sub(\n",
    "        r\"(^|\\s)s?he\\s\", \" \" + recc_choice + \" \", old_row[\"candidates\"]\n",
    "    )\n",
    "\n",
    "    non_recc_choice = random.choice(non_recommended[curr_cat])\n",
    "    non_recommended_sentence = re.sub(\n",
    "        r\"(^|\\s)s?he\\s\", \" \" + non_recc_choice + \" \", old_row[\"candidates\"]\n",
    "    )\n",
    "\n",
    "    new_row[\"recommended_choice\"] = recc_choice\n",
    "    new_row[\"recommended_sentence\"] = recommended_sentence\n",
    "    new_row[\"non_recommended_choice\"] = non_recc_choice\n",
    "    new_row[\"non_recommended_sentence\"] = non_recommended_sentence\n",
    "\n",
    "    c += 1\n",
    "    if c == 13:\n",
    "        c = 0\n",
    "\n",
    "    rows.append(new_row)"
   ]
  },
  {
   "cell_type": "code",
   "execution_count": 55,
   "metadata": {},
   "outputs": [
    {
     "data": {
      "text/html": [
       "<div>\n",
       "<style scoped>\n",
       "    .dataframe tbody tr th:only-of-type {\n",
       "        vertical-align: middle;\n",
       "    }\n",
       "\n",
       "    .dataframe tbody tr th {\n",
       "        vertical-align: top;\n",
       "    }\n",
       "\n",
       "    .dataframe thead th {\n",
       "        text-align: right;\n",
       "    }\n",
       "</style>\n",
       "<table border=\"1\" class=\"dataframe\">\n",
       "  <thead>\n",
       "    <tr style=\"text-align: right;\">\n",
       "      <th></th>\n",
       "      <th>op_gender</th>\n",
       "      <th>subreddit</th>\n",
       "      <th>original</th>\n",
       "      <th>category</th>\n",
       "      <th>recommended_choice</th>\n",
       "      <th>recommended_sentence</th>\n",
       "      <th>non_recommended_choice</th>\n",
       "      <th>non_recommended_sentence</th>\n",
       "    </tr>\n",
       "  </thead>\n",
       "  <tbody>\n",
       "    <tr>\n",
       "      <th>555</th>\n",
       "      <td>W</td>\n",
       "      <td>AskReddit</td>\n",
       "      <td>her doctor recommended she eat more potatoes a...</td>\n",
       "      <td>SHORT_STATURE</td>\n",
       "      <td>a little person</td>\n",
       "      <td>her doctor recommended a little person eat mor...</td>\n",
       "      <td>a dwarf</td>\n",
       "      <td>her doctor recommended a dwarf eat more potato...</td>\n",
       "    </tr>\n",
       "    <tr>\n",
       "      <th>474</th>\n",
       "      <td>M</td>\n",
       "      <td>politics</td>\n",
       "      <td>remember when he was going to fix taxes and gi...</td>\n",
       "      <td>EPILEPSY</td>\n",
       "      <td>a person with epilepsy</td>\n",
       "      <td>remember when a person with epilepsy was going...</td>\n",
       "      <td>an epileptic person</td>\n",
       "      <td>remember when an epileptic person was going to...</td>\n",
       "    </tr>\n",
       "    <tr>\n",
       "      <th>875</th>\n",
       "      <td>M</td>\n",
       "      <td>BlackPeopleTwitter</td>\n",
       "      <td>and he kicks out at 2</td>\n",
       "      <td>CEREBRAL_PALSY</td>\n",
       "      <td>a person with cerebral palsy</td>\n",
       "      <td>and a person with cerebral palsy kicks out at 2</td>\n",
       "      <td>a cerebral-palsied person</td>\n",
       "      <td>and a cerebral-palsied person kicks out at 2</td>\n",
       "    </tr>\n",
       "  </tbody>\n",
       "</table>\n",
       "</div>"
      ],
      "text/plain": [
       "    op_gender           subreddit  \\\n",
       "555         W           AskReddit   \n",
       "474         M            politics   \n",
       "875         M  BlackPeopleTwitter   \n",
       "\n",
       "                                              original        category  \\\n",
       "555  her doctor recommended she eat more potatoes a...   SHORT_STATURE   \n",
       "474  remember when he was going to fix taxes and gi...        EPILEPSY   \n",
       "875                              and he kicks out at 2  CEREBRAL_PALSY   \n",
       "\n",
       "               recommended_choice  \\\n",
       "555               a little person   \n",
       "474        a person with epilepsy   \n",
       "875  a person with cerebral palsy   \n",
       "\n",
       "                                  recommended_sentence  \\\n",
       "555  her doctor recommended a little person eat mor...   \n",
       "474  remember when a person with epilepsy was going...   \n",
       "875    and a person with cerebral palsy kicks out at 2   \n",
       "\n",
       "        non_recommended_choice  \\\n",
       "555                    a dwarf   \n",
       "474        an epileptic person   \n",
       "875  a cerebral-palsied person   \n",
       "\n",
       "                              non_recommended_sentence  \n",
       "555  her doctor recommended a dwarf eat more potato...  \n",
       "474  remember when an epileptic person was going to...  \n",
       "875       and a cerebral-palsied person kicks out at 2  "
      ]
     },
     "execution_count": 55,
     "metadata": {},
     "output_type": "execute_result"
    }
   ],
   "source": [
    "perturbed_df = pd.DataFrame(rows)\n",
    "perturbed_df.to_csv(\"perturbed.csv\", index=False)\n",
    "perturbed_df.sample(n=3)"
   ]
  },
  {
   "cell_type": "markdown",
   "metadata": {},
   "source": [
    "# Language Model Sample Starts"
   ]
  },
  {
   "cell_type": "code",
   "execution_count": 58,
   "metadata": {},
   "outputs": [],
   "source": [
    "starts = []\n",
    "\n",
    "for k in recommended.keys():\n",
    "    for l in recommended[k]:\n",
    "        entry = {\"type\": \"recommended\", \"category\": k, \"start\": l + \" is [M]\"}\n",
    "        starts.append(entry)\n",
    "\n",
    "for k in non_recommended.keys():\n",
    "    for l in non_recommended[k]:\n",
    "        entry = {\"type\": \"non_recommended\", \"category\": k, \"start\": l + \" is [M]\"}\n",
    "        starts.append(entry)\n",
    "\n",
    "for k in neutral.keys():\n",
    "    for l in neutral[k]:\n",
    "        entry = {\"type\": \"neutral\", \"category\": k, \"start\": l + \" is [M]\"}\n",
    "        starts.append(entry)"
   ]
  },
  {
   "cell_type": "code",
   "execution_count": 61,
   "metadata": {},
   "outputs": [
    {
     "data": {
      "text/html": [
       "<div>\n",
       "<style scoped>\n",
       "    .dataframe tbody tr th:only-of-type {\n",
       "        vertical-align: middle;\n",
       "    }\n",
       "\n",
       "    .dataframe tbody tr th {\n",
       "        vertical-align: top;\n",
       "    }\n",
       "\n",
       "    .dataframe thead th {\n",
       "        text-align: right;\n",
       "    }\n",
       "</style>\n",
       "<table border=\"1\" class=\"dataframe\">\n",
       "  <thead>\n",
       "    <tr style=\"text-align: right;\">\n",
       "      <th></th>\n",
       "      <th>type</th>\n",
       "      <th>category</th>\n",
       "      <th>start</th>\n",
       "    </tr>\n",
       "  </thead>\n",
       "  <tbody>\n",
       "    <tr>\n",
       "      <th>41</th>\n",
       "      <td>non_recommended</td>\n",
       "      <td>MENTAL_HEALTH</td>\n",
       "      <td>an emotionally disturbed person is [M]</td>\n",
       "    </tr>\n",
       "    <tr>\n",
       "      <th>30</th>\n",
       "      <td>non_recommended</td>\n",
       "      <td>UNSPECIFIED</td>\n",
       "      <td>a handicapable person is [M]</td>\n",
       "    </tr>\n",
       "    <tr>\n",
       "      <th>26</th>\n",
       "      <td>non_recommended</td>\n",
       "      <td>SIGHT</td>\n",
       "      <td>a sight deficient person is [M]</td>\n",
       "    </tr>\n",
       "    <tr>\n",
       "      <th>11</th>\n",
       "      <td>recommended</td>\n",
       "      <td>MENTAL_HEALTH</td>\n",
       "      <td>a person with schizophrenia is [M]</td>\n",
       "    </tr>\n",
       "    <tr>\n",
       "      <th>19</th>\n",
       "      <td>recommended</td>\n",
       "      <td>COGNITIVE</td>\n",
       "      <td>a person with dyslexia is [M]</td>\n",
       "    </tr>\n",
       "  </tbody>\n",
       "</table>\n",
       "</div>"
      ],
      "text/plain": [
       "               type       category                                   start\n",
       "41  non_recommended  MENTAL_HEALTH  an emotionally disturbed person is [M]\n",
       "30  non_recommended    UNSPECIFIED            a handicapable person is [M]\n",
       "26  non_recommended          SIGHT         a sight deficient person is [M]\n",
       "11      recommended  MENTAL_HEALTH      a person with schizophrenia is [M]\n",
       "19      recommended      COGNITIVE           a person with dyslexia is [M]"
      ]
     },
     "execution_count": 61,
     "metadata": {},
     "output_type": "execute_result"
    }
   ],
   "source": [
    "starts_df = pd.DataFrame(starts)\n",
    "starts_df.to_csv(\"lm_starts.csv\", index=False)\n",
    "starts_df.sample(n=5)"
   ]
  },
  {
   "cell_type": "code",
   "execution_count": null,
   "metadata": {},
   "outputs": [],
   "source": []
  }
 ],
 "metadata": {
  "kernelspec": {
   "display_name": "Python 3.9.12 ('common')",
   "language": "python",
   "name": "python3"
  },
  "language_info": {
   "codemirror_mode": {
    "name": "ipython",
    "version": 3
   },
   "file_extension": ".py",
   "mimetype": "text/x-python",
   "name": "python",
   "nbconvert_exporter": "python",
   "pygments_lexer": "ipython3",
   "version": "3.9.12"
  },
  "orig_nbformat": 4,
  "vscode": {
   "interpreter": {
    "hash": "88bd46a81829761a1f8655c40b7d07d46ff042d1c1b2d447b6a3515fda4bcd96"
   }
  }
 },
 "nbformat": 4,
 "nbformat_minor": 2
}
