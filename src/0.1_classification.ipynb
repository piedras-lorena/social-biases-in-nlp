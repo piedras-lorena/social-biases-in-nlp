{
 "cells": [
  {
   "cell_type": "code",
   "execution_count": 1,
   "metadata": {},
   "outputs": [],
   "source": [
    "from googleapiclient import discovery\n",
    "from googleapiclient.errors import HttpError\n",
    "from glob import glob\n",
    "import json\n",
    "import numpy as np\n",
    "import pandas as pd\n",
    "import re\n",
    "import time\n",
    "from tqdm import tqdm"
   ]
  },
  {
   "cell_type": "code",
   "execution_count": 2,
   "metadata": {},
   "outputs": [],
   "source": [
    "with open('/Users/lorenapiedras/Documents/credentials/api_creds.json', 'r') as file:\n",
    "    api_keys = json.load(file)\n",
    "API_KEY = api_keys['perspective_api']"
   ]
  },
  {
   "cell_type": "code",
   "execution_count": 3,
   "metadata": {},
   "outputs": [],
   "source": [
    "score_type_map_full = {\n",
    "    \"toxicity_score\": \"TOXICITY\",\n",
    "    \"identity_score\": \"IDENTITY_ATTACK\",\n",
    "    \"insult_score\": \"INSULT\",\n",
    "    \"threat_score\": \"THREAT\",\n",
    "    \"sex_score\": \"SEXUALLY_EXPLICIT\",\n",
    "    \"flirtation_score\": \"FLIRTATION\"\n",
    "}\n",
    "\n",
    "score_type_map_toxicity = {\n",
    "    \"toxicity_score\": \"TOXICITY\",\n",
    "}\n",
    "\n",
    "client = discovery.build(\n",
    "  \"commentanalyzer\",\n",
    "  \"v1alpha1\",\n",
    "  developerKey=API_KEY,\n",
    "  discoveryServiceUrl=\"https://commentanalyzer.googleapis.com/$discovery/rest?version=v1alpha1\",\n",
    "  static_discovery=False,\n",
    ")\n",
    "\n",
    "def score_row(row, score_type_list, add_delay=False):\n",
    "    if add_delay:\n",
    "        time.sleep(1)\n",
    "    try:\n",
    "        score_type_attribute = {value: {} for value in score_type_list}\n",
    "        analyze_request = {\n",
    "            'comment': { 'text': row['sentence'] },\n",
    "            'requestedAttributes': score_type_attribute\n",
    "        }\n",
    "        response = client.comments().analyze(body=analyze_request).execute()\n",
    "    except HttpError as err:\n",
    "        if err.resp.status == 429:\n",
    "            print('Quota limit exceeded')\n",
    "            time.sleep(10)\n",
    "            response = client.comments().analyze(body=analyze_request).execute()\n",
    "        else:\n",
    "            raise\n",
    "    value_list = []\n",
    "    for score_type in score_type_list:\n",
    "        value_list.append(\n",
    "            response['attributeScores'][score_type]['summaryScore']['value'])\n",
    "    return tuple(value_list)"
   ]
  },
  {
   "cell_type": "markdown",
   "metadata": {},
   "source": [
    "# Toxicity Classification"
   ]
  },
  {
   "cell_type": "code",
   "execution_count": 4,
   "metadata": {},
   "outputs": [],
   "source": [
    "run_from_scratch = False"
   ]
  },
  {
   "cell_type": "code",
   "execution_count": 12,
   "metadata": {},
   "outputs": [
    {
     "name": "stdout",
     "output_type": "stream",
     "text": [
      "Retreiving past batches\n"
     ]
    }
   ],
   "source": [
    "if run_from_scratch:\n",
    "    data = pd.read_csv('../data/perturbed.csv')\n",
    "\n",
    "    data_long = data.melt(\n",
    "        id_vars=['op_gender','subreddit', 'original', 'category'], \n",
    "        value_vars=['recommended_sentence', 'non_recommended_sentence'],\n",
    "        value_name='sentence'\n",
    "        )\n",
    "\n",
    "    original_data = data.filter(['subreddit', 'original', 'op_gender']).drop_duplicates()\n",
    "    original_data = original_data.assign(\n",
    "        sentence=original_data.original,\n",
    "        variable='original_sentence',\n",
    "        category='ORIGINAL'\n",
    "    )\n",
    "    data_long = pd.concat([data_long, original_data])\n",
    "    data_long = data_long.sort_values('original').reset_index(drop=True)\n",
    "\n",
    "    data_long = data_long.reset_index().rename(\n",
    "        columns={'index':'id'})\n",
    "\n",
    "    batches = np.array_split(data_long, 30)\n",
    "\n",
    "    for i, batch in enumerate(batches):\n",
    "        batch = batch.assign(\n",
    "            batch=i\n",
    "        )\n",
    "        batches[i] = batch\n",
    "    \n",
    "    df_batches = pd.concat(batches)\n",
    "    df_batches.to_csv('../data/batches.csv', index=False)\n",
    "else:\n",
    "    print('Retreiving past batches')\n",
    "    df_batches = pd.read_csv('../data/batches.csv')\n",
    "    files = glob('../data/reddit_toxicity_*')\n",
    "    processed_batches = [int(re.findall(r'[0-9]+',file)[0]) for file in files]\n",
    "    non_processed_df = df_batches.loc[~df_batches.batch.isin(processed_batches)]\n",
    "    batches = []\n",
    "    for b in set(non_processed_df.batch.to_numpy()):\n",
    "        batches.append(non_processed_df.query(f'batch == {b}'))"
   ]
  },
  {
   "cell_type": "code",
   "execution_count": 15,
   "metadata": {},
   "outputs": [
    {
     "name": "stdout",
     "output_type": "stream",
     "text": [
      "Running for 2 batches\n"
     ]
    },
    {
     "name": "stderr",
     "output_type": "stream",
     "text": [
      "  0%|          | 0/2 [00:00<?, ?it/s]"
     ]
    },
    {
     "name": "stdout",
     "output_type": "stream",
     "text": [
      "Running for batch 0\n"
     ]
    },
    {
     "name": "stderr",
     "output_type": "stream",
     "text": [
      " 50%|█████     | 1/2 [16:35<16:35, 995.70s/it]"
     ]
    },
    {
     "name": "stdout",
     "output_type": "stream",
     "text": [
      "Running for batch 1\n"
     ]
    },
    {
     "name": "stderr",
     "output_type": "stream",
     "text": [
      "100%|██████████| 2/2 [33:12<00:00, 996.02s/it]\n"
     ]
    }
   ],
   "source": [
    "score_col_names = list(score_type_map_toxicity.keys())\n",
    "score_type_list = list(score_type_map_toxicity.values())\n",
    "n = len(batches)\n",
    "print(f'Running for {n} batches')\n",
    "for i,batch in enumerate(tqdm(batches)):\n",
    "    print(f'Running for batch {i}')\n",
    "    results = batch.apply(lambda row: score_row(\n",
    "        row, \n",
    "        score_type_list=score_type_list, \n",
    "        add_delay=True), axis=1, result_type='expand')\n",
    "    results.columns = score_col_names\n",
    "    batch = batch.join(results)\n",
    "    n_batch = batch.batch.unique()[0]\n",
    "    batch.to_csv(\n",
    "        f'../data/reddit_toxicity_{n_batch}.csv',\n",
    "        index=False\n",
    "        )"
   ]
  },
  {
   "cell_type": "code",
   "execution_count": 74,
   "metadata": {},
   "outputs": [],
   "source": [
    "files = glob('../data/reddit_toxicity_*')"
   ]
  },
  {
   "cell_type": "code",
   "execution_count": 75,
   "metadata": {},
   "outputs": [],
   "source": [
    "toxicity_scores = pd.concat([pd.read_csv(file) for file in files])"
   ]
  },
  {
   "cell_type": "code",
   "execution_count": 76,
   "metadata": {},
   "outputs": [],
   "source": [
    "toxicity_scores.to_csv('../data/raw_toxicity_data.csv', index=False)"
   ]
  },
  {
   "cell_type": "code",
   "execution_count": 65,
   "metadata": {},
   "outputs": [],
   "source": [
    "original_sentences = toxicity_scores.loc[\n",
    "    toxicity_scores.variable == 'original_sentence']\n",
    "modified_sentences = toxicity_scores.loc[\n",
    "    toxicity_scores.variable != 'original_sentence']"
   ]
  },
  {
   "cell_type": "code",
   "execution_count": 66,
   "metadata": {},
   "outputs": [],
   "source": [
    "original_sentences = original_sentences.filter(\n",
    "    ['original', 'toxicity_score']).rename(columns={'toxicity_score':'original_toxicity'})"
   ]
  },
  {
   "cell_type": "code",
   "execution_count": 67,
   "metadata": {},
   "outputs": [],
   "source": [
    "comparative_toxicity = pd.pivot(\n",
    "    modified_sentences, \n",
    "    index=['op_gender', 'subreddit', 'original', 'category'],\n",
    "    columns=['variable'],\n",
    "    values=['sentence', 'toxicity_score']\n",
    "    ).reset_index()"
   ]
  },
  {
   "cell_type": "code",
   "execution_count": 68,
   "metadata": {},
   "outputs": [],
   "source": [
    "col_names = []\n",
    "for col in comparative_toxicity.columns:\n",
    "    if col[0] == 'toxicity_score':\n",
    "        col_name = col[1] + '_'+ col[0]\n",
    "    elif col[0] == 'sentence':\n",
    "        col_name = col[1]\n",
    "    else:\n",
    "        col_name = col[0]\n",
    "    col_names.append(col_name)\n",
    "\n",
    "comparative_toxicity.columns = col_names"
   ]
  },
  {
   "cell_type": "code",
   "execution_count": 69,
   "metadata": {},
   "outputs": [],
   "source": [
    "comparative_toxicity = comparative_toxicity.merge(\n",
    "    original_sentences,\n",
    "    on='original'\n",
    ")"
   ]
  },
  {
   "cell_type": "code",
   "execution_count": 73,
   "metadata": {},
   "outputs": [],
   "source": [
    "comparative_toxicity.to_csv('../data/toxicity_classification.csv', index=False)"
   ]
  },
  {
   "cell_type": "markdown",
   "metadata": {},
   "source": [
    "# Sentiment Analysis"
   ]
  },
  {
   "cell_type": "code",
   "execution_count": 5,
   "metadata": {},
   "outputs": [],
   "source": [
    "from helper import predict_sentiment"
   ]
  },
  {
   "cell_type": "code",
   "execution_count": 6,
   "metadata": {},
   "outputs": [
    {
     "name": "stdout",
     "output_type": "stream",
     "text": [
      "Text: I hate potatoes\n",
      "Sentiment: -0.800000011920929, 0.800000011920929\n"
     ]
    },
    {
     "data": {
      "text/plain": [
       "magnitude: 0.8\n",
       "score: -0.8"
      ]
     },
     "execution_count": 6,
     "metadata": {},
     "output_type": "execute_result"
    }
   ],
   "source": [
    "# The text to analyze\n",
    "text = \"I hate potatoes\"\n",
    "predict_sentiment(text)"
   ]
  },
  {
   "cell_type": "code",
   "execution_count": null,
   "metadata": {},
   "outputs": [],
   "source": []
  }
 ],
 "metadata": {
  "kernelspec": {
   "display_name": "Python 3.7.5 ('social-biases-nlp')",
   "language": "python",
   "name": "python3"
  },
  "language_info": {
   "codemirror_mode": {
    "name": "ipython",
    "version": 3
   },
   "file_extension": ".py",
   "mimetype": "text/x-python",
   "name": "python",
   "nbconvert_exporter": "python",
   "pygments_lexer": "ipython3",
   "version": "3.7.5"
  },
  "orig_nbformat": 4,
  "vscode": {
   "interpreter": {
    "hash": "dd72e8e2aaf53991ca0387625b715bfafc32c7f5349076efcff04c3ae2963a66"
   }
  }
 },
 "nbformat": 4,
 "nbformat_minor": 2
}
