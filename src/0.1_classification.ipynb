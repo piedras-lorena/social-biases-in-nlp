{
 "cells": [
  {
   "cell_type": "code",
   "execution_count": 104,
   "metadata": {},
   "outputs": [],
   "source": [
    "from googleapiclient import discovery\n",
    "from googleapiclient.errors import HttpError\n",
    "from glob import glob\n",
    "import json\n",
    "import numpy as np\n",
    "import pandas as pd\n",
    "import re\n",
    "import time\n",
    "from tqdm import tqdm\n",
    "\n",
    "from helper import convert_perturbed_to_long"
   ]
  },
  {
   "cell_type": "code",
   "execution_count": 105,
   "metadata": {},
   "outputs": [],
   "source": [
    "with open('/Users/lorenapiedras/Documents/credentials/api_creds.json', 'r') as file:\n",
    "    api_keys = json.load(file)\n",
    "API_KEY = api_keys['perspective_api']"
   ]
  },
  {
   "cell_type": "code",
   "execution_count": 106,
   "metadata": {},
   "outputs": [],
   "source": [
    "score_type_map_full = {\n",
    "    \"toxicity_score\": \"TOXICITY\",\n",
    "    \"identity_score\": \"IDENTITY_ATTACK\",\n",
    "    \"insult_score\": \"INSULT\",\n",
    "    \"threat_score\": \"THREAT\",\n",
    "    \"sex_score\": \"SEXUALLY_EXPLICIT\",\n",
    "    \"flirtation_score\": \"FLIRTATION\"\n",
    "}\n",
    "\n",
    "score_type_map_toxicity = {\n",
    "    \"toxicity_score\": \"TOXICITY\",\n",
    "}\n",
    "\n",
    "client = discovery.build(\n",
    "  \"commentanalyzer\",\n",
    "  \"v1alpha1\",\n",
    "  developerKey=API_KEY,\n",
    "  discoveryServiceUrl=\"https://commentanalyzer.googleapis.com/$discovery/rest?version=v1alpha1\",\n",
    "  static_discovery=False,\n",
    ")\n",
    "\n",
    "def score_row(row, score_type_list, add_delay=False):\n",
    "    if add_delay:\n",
    "        time.sleep(1)\n",
    "    try:\n",
    "        score_type_attribute = {value: {} for value in score_type_list}\n",
    "        analyze_request = {\n",
    "            'comment': { 'text': row['sentence'] },\n",
    "            'requestedAttributes': score_type_attribute\n",
    "        }\n",
    "        response = client.comments().analyze(body=analyze_request).execute()\n",
    "    except HttpError as err:\n",
    "        if err.resp.status == 429:\n",
    "            print('Quota limit exceeded')\n",
    "            time.sleep(10)\n",
    "            response = client.comments().analyze(body=analyze_request).execute()\n",
    "        else:\n",
    "            raise\n",
    "    value_list = []\n",
    "    for score_type in score_type_list:\n",
    "        value_list.append(\n",
    "            response['attributeScores'][score_type]['summaryScore']['value'])\n",
    "    return tuple(value_list)"
   ]
  },
  {
   "cell_type": "markdown",
   "metadata": {},
   "source": [
    "# Toxicity Classification"
   ]
  },
  {
   "cell_type": "code",
   "execution_count": 4,
   "metadata": {},
   "outputs": [],
   "source": [
    "run_from_scratch = False"
   ]
  },
  {
   "cell_type": "code",
   "execution_count": 109,
   "metadata": {},
   "outputs": [],
   "source": [
    "data = pd.read_csv('../data/perturbed.csv')"
   ]
  },
  {
   "cell_type": "code",
   "execution_count": 12,
   "metadata": {},
   "outputs": [
    {
     "name": "stdout",
     "output_type": "stream",
     "text": [
      "Retreiving past batches\n"
     ]
    }
   ],
   "source": [
    "if run_from_scratch:\n",
    "    data = pd.read_csv('../data/perturbed.csv')\n",
    "\n",
    "    data_long = convert_perturbed_to_long(data)\n",
    "\n",
    "    batches = np.array_split(data_long, 30)\n",
    "\n",
    "    for i, batch in enumerate(batches):\n",
    "        batch = batch.assign(\n",
    "            batch=i\n",
    "        )\n",
    "        batches[i] = batch\n",
    "    \n",
    "    df_batches = pd.concat(batches)\n",
    "    df_batches.to_csv('../data/batches.csv', index=False)\n",
    "else:\n",
    "    print('Retreiving past batches')\n",
    "    df_batches = pd.read_csv('../data/batches.csv')\n",
    "    files = glob('../data/reddit_toxicity_*')\n",
    "    processed_batches = [int(re.findall(r'[0-9]+',file)[0]) for file in files]\n",
    "    non_processed_df = df_batches.loc[~df_batches.batch.isin(processed_batches)]\n",
    "    batches = []\n",
    "    for b in set(non_processed_df.batch.to_numpy()):\n",
    "        batches.append(non_processed_df.query(f'batch == {b}'))"
   ]
  },
  {
   "cell_type": "code",
   "execution_count": 15,
   "metadata": {},
   "outputs": [
    {
     "name": "stdout",
     "output_type": "stream",
     "text": [
      "Running for 2 batches\n"
     ]
    },
    {
     "name": "stderr",
     "output_type": "stream",
     "text": [
      "  0%|          | 0/2 [00:00<?, ?it/s]"
     ]
    },
    {
     "name": "stdout",
     "output_type": "stream",
     "text": [
      "Running for batch 0\n"
     ]
    },
    {
     "name": "stderr",
     "output_type": "stream",
     "text": [
      " 50%|█████     | 1/2 [16:35<16:35, 995.70s/it]"
     ]
    },
    {
     "name": "stdout",
     "output_type": "stream",
     "text": [
      "Running for batch 1\n"
     ]
    },
    {
     "name": "stderr",
     "output_type": "stream",
     "text": [
      "100%|██████████| 2/2 [33:12<00:00, 996.02s/it]\n"
     ]
    }
   ],
   "source": [
    "score_col_names = list(score_type_map_toxicity.keys())\n",
    "score_type_list = list(score_type_map_toxicity.values())\n",
    "n = len(batches)\n",
    "print(f'Running for {n} batches')\n",
    "for i,batch in enumerate(tqdm(batches)):\n",
    "    print(f'Running for batch {i}')\n",
    "    results = batch.apply(lambda row: score_row(\n",
    "        row, \n",
    "        score_type_list=score_type_list, \n",
    "        add_delay=True), axis=1, result_type='expand')\n",
    "    results.columns = score_col_names\n",
    "    batch = batch.join(results)\n",
    "    n_batch = batch.batch.unique()[0]\n",
    "    batch.to_csv(\n",
    "        f'../data/reddit_toxicity_{n_batch}.csv',\n",
    "        index=False\n",
    "        )"
   ]
  },
  {
   "cell_type": "code",
   "execution_count": 10,
   "metadata": {},
   "outputs": [],
   "source": [
    "files = glob('../data/reddit_toxicity_*')\n",
    "toxicity_scores = pd.concat([pd.read_csv(file) for file in files])\n",
    "toxicity_scores.to_csv('../data/raw_toxicity_data.csv', index=False)"
   ]
  },
  {
   "cell_type": "code",
   "execution_count": 65,
   "metadata": {},
   "outputs": [],
   "source": [
    "original_sentences = toxicity_scores.loc[\n",
    "    toxicity_scores.variable == 'original_sentence']\n",
    "modified_sentences = toxicity_scores.loc[\n",
    "    toxicity_scores.variable != 'original_sentence']\n",
    "original_sentences = original_sentences.filter(\n",
    "    ['original', 'toxicity_score']).rename(columns={'toxicity_score':'original_toxicity'})\n",
    "\n",
    "comparative_toxicity = pd.pivot(\n",
    "    modified_sentences, \n",
    "    index=['op_gender', 'subreddit', 'original', 'category'],\n",
    "    columns=['variable'],\n",
    "    values=['sentence', 'toxicity_score']\n",
    "    ).reset_index()"
   ]
  },
  {
   "cell_type": "code",
   "execution_count": 68,
   "metadata": {},
   "outputs": [],
   "source": [
    "col_names = []\n",
    "for col in comparative_toxicity.columns:\n",
    "    if col[0] == 'toxicity_score':\n",
    "        col_name = col[1] + '_'+ col[0]\n",
    "    elif col[0] == 'sentence':\n",
    "        col_name = col[1]\n",
    "    else:\n",
    "        col_name = col[0]\n",
    "    col_names.append(col_name)\n",
    "\n",
    "comparative_toxicity.columns = col_names"
   ]
  },
  {
   "cell_type": "code",
   "execution_count": 69,
   "metadata": {},
   "outputs": [],
   "source": [
    "comparative_toxicity = comparative_toxicity.merge(\n",
    "    original_sentences,\n",
    "    on='original'\n",
    ")"
   ]
  },
  {
   "cell_type": "code",
   "execution_count": 73,
   "metadata": {},
   "outputs": [],
   "source": [
    "comparative_toxicity.to_csv('../data/toxicity_classification.csv', index=False)"
   ]
  },
  {
   "cell_type": "markdown",
   "metadata": {},
   "source": [
    "# Sentiment Analysis"
   ]
  },
  {
   "cell_type": "code",
   "execution_count": 6,
   "metadata": {},
   "outputs": [],
   "source": [
    "from helper import sample_analyze_sentiment"
   ]
  },
  {
   "cell_type": "code",
   "execution_count": 7,
   "metadata": {},
   "outputs": [],
   "source": [
    "df_batches = pd.read_csv('../data/batches.csv')\n",
    "files = glob('../data/reddit_sentiment_*')\n",
    "processed_batches = [int(re.findall(r'[0-9]+',file)[0]) for file in files]\n",
    "non_processed_df = df_batches.loc[~df_batches.batch.isin(processed_batches)]\n",
    "batches = []\n",
    "for b in set(non_processed_df.batch.to_numpy()):\n",
    "    batches.append(non_processed_df.query(f'batch == {b}'))"
   ]
  },
  {
   "cell_type": "code",
   "execution_count": 8,
   "metadata": {},
   "outputs": [
    {
     "name": "stderr",
     "output_type": "stream",
     "text": [
      "  0%|          | 0/12 [00:00<?, ?it/s]"
     ]
    },
    {
     "name": "stdout",
     "output_type": "stream",
     "text": [
      "Running for batch 18\n"
     ]
    },
    {
     "name": "stderr",
     "output_type": "stream",
     "text": [
      "  8%|▊         | 1/12 [03:53<42:43, 233.06s/it]"
     ]
    },
    {
     "name": "stdout",
     "output_type": "stream",
     "text": [
      "Running for batch 19\n"
     ]
    },
    {
     "name": "stderr",
     "output_type": "stream",
     "text": [
      " 17%|█▋        | 2/12 [07:48<39:05, 234.58s/it]"
     ]
    },
    {
     "name": "stdout",
     "output_type": "stream",
     "text": [
      "Running for batch 20\n"
     ]
    },
    {
     "name": "stderr",
     "output_type": "stream",
     "text": [
      " 25%|██▌       | 3/12 [11:37<34:46, 231.78s/it]"
     ]
    },
    {
     "name": "stdout",
     "output_type": "stream",
     "text": [
      "Running for batch 21\n"
     ]
    },
    {
     "name": "stderr",
     "output_type": "stream",
     "text": [
      " 33%|███▎      | 4/12 [15:26<30:48, 231.01s/it]"
     ]
    },
    {
     "name": "stdout",
     "output_type": "stream",
     "text": [
      "Running for batch 22\n"
     ]
    },
    {
     "name": "stderr",
     "output_type": "stream",
     "text": [
      " 42%|████▏     | 5/12 [19:24<27:13, 233.38s/it]"
     ]
    },
    {
     "name": "stdout",
     "output_type": "stream",
     "text": [
      "Running for batch 23\n"
     ]
    },
    {
     "name": "stderr",
     "output_type": "stream",
     "text": [
      " 50%|█████     | 6/12 [23:13<23:11, 231.96s/it]"
     ]
    },
    {
     "name": "stdout",
     "output_type": "stream",
     "text": [
      "Running for batch 24\n"
     ]
    },
    {
     "name": "stderr",
     "output_type": "stream",
     "text": [
      " 58%|█████▊    | 7/12 [27:08<19:24, 232.96s/it]"
     ]
    },
    {
     "name": "stdout",
     "output_type": "stream",
     "text": [
      "Running for batch 25\n"
     ]
    },
    {
     "name": "stderr",
     "output_type": "stream",
     "text": [
      " 67%|██████▋   | 8/12 [31:02<15:33, 233.27s/it]"
     ]
    },
    {
     "name": "stdout",
     "output_type": "stream",
     "text": [
      "Running for batch 26\n"
     ]
    },
    {
     "name": "stderr",
     "output_type": "stream",
     "text": [
      " 75%|███████▌  | 9/12 [34:54<11:38, 232.79s/it]"
     ]
    },
    {
     "name": "stdout",
     "output_type": "stream",
     "text": [
      "Running for batch 27\n"
     ]
    },
    {
     "name": "stderr",
     "output_type": "stream",
     "text": [
      " 83%|████████▎ | 10/12 [38:41<07:42, 231.06s/it]"
     ]
    },
    {
     "name": "stdout",
     "output_type": "stream",
     "text": [
      "Running for batch 28\n"
     ]
    },
    {
     "name": "stderr",
     "output_type": "stream",
     "text": [
      " 92%|█████████▏| 11/12 [42:30<03:50, 230.41s/it]"
     ]
    },
    {
     "name": "stdout",
     "output_type": "stream",
     "text": [
      "Running for batch 29\n"
     ]
    },
    {
     "name": "stderr",
     "output_type": "stream",
     "text": [
      "100%|██████████| 12/12 [46:40<00:00, 233.42s/it]\n"
     ]
    }
   ],
   "source": [
    "for i,batch in enumerate(tqdm(batches)):\n",
    "    n = batch.batch.unique()[0]\n",
    "    print(f'Running for batch {n}')\n",
    "    batch = batch.assign(\n",
    "        sentiment_score=batch.sentence.map(\n",
    "            lambda x: sample_analyze_sentiment(x))\n",
    "            )\n",
    "    batch.to_csv(f'../data/reddit_sentiment_{n}.csv')"
   ]
  },
  {
   "cell_type": "code",
   "execution_count": 24,
   "metadata": {},
   "outputs": [],
   "source": [
    "files = glob('../data/reddit_sentiment_*')\n",
    "sentiment_scores = pd.concat([pd.read_csv(file) for file in files])\n",
    "sentiment_scores.to_csv('../data/raw_sentiment_data.csv', index=False)"
   ]
  },
  {
   "cell_type": "code",
   "execution_count": 25,
   "metadata": {},
   "outputs": [],
   "source": [
    "original_sentences = sentiment_scores.loc[\n",
    "    sentiment_scores.variable == 'original_sentence']\n",
    "modified_sentences = sentiment_scores.loc[\n",
    "    sentiment_scores.variable != 'original_sentence']\n",
    "original_sentences = original_sentences.filter(\n",
    "    ['original', 'sentiment_score']).rename(columns={'sentiment_score':'original_sentence_sentiment_score'})\n",
    "\n",
    "comparative_sentiment = pd.pivot(\n",
    "    modified_sentences, \n",
    "    index=['op_gender', 'subreddit', 'original', 'category'],\n",
    "    columns=['variable'],\n",
    "    values=['sentence', 'sentiment_score']\n",
    "    ).reset_index()"
   ]
  },
  {
   "cell_type": "code",
   "execution_count": 26,
   "metadata": {},
   "outputs": [],
   "source": [
    "col_names = []\n",
    "for col in comparative_sentiment.columns:\n",
    "    if col[0] == 'sentiment_score':\n",
    "        col_name = col[1] + '_'+ col[0]\n",
    "    elif col[0] == 'sentence':\n",
    "        col_name = col[1]\n",
    "    else:\n",
    "        col_name = col[0]\n",
    "    col_names.append(col_name)\n",
    "\n",
    "comparative_sentiment.columns = col_names"
   ]
  },
  {
   "cell_type": "code",
   "execution_count": 27,
   "metadata": {},
   "outputs": [],
   "source": [
    "comparative_sentiment = comparative_sentiment.merge(\n",
    "    original_sentences,\n",
    "    on='original'\n",
    ")"
   ]
  },
  {
   "cell_type": "code",
   "execution_count": 28,
   "metadata": {},
   "outputs": [],
   "source": [
    "comparative_sentiment.to_csv('../data/sentiment_classification.csv', index=False)"
   ]
  },
  {
   "cell_type": "markdown",
   "metadata": {},
   "source": [
    "# Analysis"
   ]
  },
  {
   "cell_type": "code",
   "execution_count": 114,
   "metadata": {},
   "outputs": [],
   "source": [
    "import matplotlib.pyplot as plt\n",
    "import seaborn as sns"
   ]
  },
  {
   "cell_type": "code",
   "execution_count": 115,
   "metadata": {},
   "outputs": [],
   "source": [
    "toxicity = pd.read_csv('../data/toxicity_classification.csv')\n",
    "sentiment = pd.read_csv('../data/sentiment_classification.csv')"
   ]
  },
  {
   "cell_type": "code",
   "execution_count": 116,
   "metadata": {},
   "outputs": [],
   "source": [
    "toxicity = toxicity.assign(\n",
    "    score_diff_recommended =toxicity.recommended_sentence_toxicity_score - toxicity.original_toxicity,\n",
    "    score_diff_not_recommended = toxicity.non_recommended_sentence_toxicity_score - toxicity.original_toxicity\n",
    ")\n",
    "sentiment = sentiment.assign(\n",
    "    score_diff_recommended = sentiment.recommended_sentence_sentiment_score - sentiment.original_sentence_sentiment_score,\n",
    "    score_diff_not_recommended = sentiment.non_recommended_sentence_sentiment_score - sentiment.original_sentence_sentiment_score\n",
    ")"
   ]
  },
  {
   "cell_type": "code",
   "execution_count": 126,
   "metadata": {},
   "outputs": [
    {
     "name": "stdout",
     "output_type": "stream",
     "text": [
      "non rec:0.13358023805388455\n",
      "rec:0.09622199889300005\n"
     ]
    }
   ],
   "source": [
    "print('non rec:{}'.format(toxicity.score_diff_not_recommended.mean()))\n",
    "print('rec:{}'.format(toxicity.score_diff_recommended.mean()))"
   ]
  },
  {
   "cell_type": "code",
   "execution_count": 128,
   "metadata": {},
   "outputs": [
    {
     "name": "stdout",
     "output_type": "stream",
     "text": [
      "non rec:-0.07033846244789087\n",
      "rec:-0.0487769241470557\n"
     ]
    }
   ],
   "source": [
    "print('non rec:{}'.format(sentiment.score_diff_not_recommended.mean()))\n",
    "print('rec:{}'.format(sentiment.score_diff_recommended.mean()))"
   ]
  },
  {
   "cell_type": "code",
   "execution_count": 117,
   "metadata": {},
   "outputs": [],
   "source": [
    "variable_name_map = {\n",
    "    'score_diff_recommended': 'recommended',\n",
    "    'score_diff_not_recommended': 'not recommended'\n",
    "}\n",
    "toxicity_plot = toxicity.melt(id_vars=['category'], value_vars=['score_diff_recommended', 'score_diff_not_recommended'])\n",
    "toxicity_plot['variable'] = toxicity_plot.variable.map(variable_name_map)\n",
    "sentiment_plot = sentiment.melt(id_vars=['category'], value_vars=['score_diff_recommended', 'score_diff_not_recommended'])\n",
    "sentiment_plot['variable'] = sentiment_plot.variable.map(variable_name_map)"
   ]
  },
  {
   "cell_type": "code",
   "execution_count": 118,
   "metadata": {},
   "outputs": [
    {
     "data": {
      "text/plain": [
       "Text(0.5, 0, 'score_diff')"
      ]
     },
     "execution_count": 118,
     "metadata": {},
     "output_type": "execute_result"
    },
    {
     "data": {
      "image/png": "[encoded data removed]",
      "text/plain": [
       "<Figure size 432x288 with 1 Axes>"
      ]
     },
     "metadata": {
      "needs_background": "light"
     },
     "output_type": "display_data"
    }
   ],
   "source": [
    "sns.pointplot(\n",
    "    data=toxicity_plot, x=\"value\", y=\"category\", hue='variable',\n",
    "    errorbar=(\"ci\", 95), capsize=.4, join=False, color=\".5\",\n",
    ")\n",
    "plt.legend(title='')\n",
    "plt.xlabel('score_diff')"
   ]
  },
  {
   "cell_type": "code",
   "execution_count": 119,
   "metadata": {},
   "outputs": [
    {
     "data": {
      "text/plain": [
       "Text(0.5, 0, 'score_diff')"
      ]
     },
     "execution_count": 119,
     "metadata": {},
     "output_type": "execute_result"
    },
    {
     "data": {
      "image/png": "[encoded data removed]",
      "text/plain": [
       "<Figure size 432x288 with 1 Axes>"
      ]
     },
     "metadata": {
      "needs_background": "light"
     },
     "output_type": "display_data"
    }
   ],
   "source": [
    "sns.pointplot(\n",
    "    data=sentiment_plot, x=\"value\", y=\"category\", hue='variable',\n",
    "    errorbar=(\"ci\", 95), capsize=.4, join=False, color=\".5\",\n",
    ")\n",
    "plt.legend(title='')\n",
    "plt.xlabel('score_diff')"
   ]
  },
  {
   "cell_type": "code",
   "execution_count": 245,
   "metadata": {},
   "outputs": [],
   "source": [
    "q = '1 3 2 6 4 8 9 7 5 10 13 12 11 15 14 18 16 20 19 17 22 23 21 25 24 28 27 26 30 29 31 32 34 33 35 37 39 38 36 41 40 42 43 46 44 47 45 50 51 49 52 48 54 53 55 56 57 58 61 59 63 60 62 66 64 65 69 70 67 68 73 72 71 75 77 74 76 79 78 80 82 83 84 81 86 88 87 85 90 89 93 91 95 92 96 94 97 98 99 102 100 101 104 106 103 105 107 110 111 109 113 108 112 115 114 117 116 120 118 119 121 123 125 122 126 124 128 127 130 129 133 131 132 134 137 136 135 139 141 138 143 140 144 142 147 146 145 148 149 150 152 151 155 153 157 156 154 160 158 159 163 161 162 164 165 168 166 167 170 169 171 172 175 174 173 177 176 178 180 181 179 182 184 183 185 187 188 186 189 191 192 190 194 195 193 196 197 199 198 200 203 201 202 205 207 204 209 208 206 212 210 213 211 214 217 216 215 219 221 218 223 220 225 222 226 227 224 229 228 231 230 234 232 235 233 238 236 240 237 241 239 242 244 243 246 245 249 248 247 251 250 253 255 252 254 258 256 259 261 260 257 262 265 263 264 268 266 270 267 269 272 271 273 275 276 274 277 279 281 278 283 280 284 282 285 287 286 290 288 289 291 293 292 294 297 295 296 300 301 299 298 304 302 303 307 308 305 306 309 311 310 314 313 312 315 318 316 319 317 321 320 324 322 325 327 323 326 330 329 332 328 331 333 336 335 334 338 337 340 341 339 343 345 342 346 348 344 347 349 352 351 350 353 355 354 358 357 356 360 359 361 362 365 364 363 367 366 369 368 371 370 374 372 376 373 375 378 377 381 379 380 382 384 383 386 385 388 387 389 392 390 391 395 394 393 398 397 396 399 402 400 401 404 403 407 405 406 410 408 412 409 411 413 416 415 414 418 417 420 421 419 422 423 425 427 424 429 426 431 428 432 430 435 433 436 434 438 437 439 440 442 444 441 443 445 447 446 449 448 451 453 452 450 454 457 455 459 456 461 458 463 462 460 465 467 464 468 466 470 471 469 472 473 476 475 477 478 474 480 481 479 484 483 485 482 487 486 490 488 492 489 491 494 493 496 498 495 500 497 501 499 503 502 505 506 504 507 508 511 512 510 509 513 516 514 515 517 518 520 522 519 523 525 521 524 526 529 527 531 530 533 528 532 536 537 535 538 534 540 539 542 541 543 545 544 546 549 548 551 547 550 552 554 553 556 555 558 560 557 561 563 559 565 562 564 567 566 569 568 571 573 570 572 575 574 576 579 578 577 581 582 583 580 585 584 588 589 586 587 591 590 592 595 593 594 596 598 597 600 599 603 602 604 601 607 605 609 606 608 611 610 612 615 613 614 617 616 619 618 620 622 624 621 623 625 627 626 630 629 628 632 631 634 633 636 635 637 639 638 640 642 641 645 644 643 648 646 649 647 652 651 650 654 653 656 657 659 655 660 661 663 658 664 662 667 666 669 668 665 671 672 670 673 675 677 674 676 678 681 680 679 684 682 685 686 687 688 683 690 691 693 689 692 695 694 697 696 700 699 698 701 703 702 705 704 707 706 708 710 709 713 711 712 715 714 717 716 719 720 718 722 721 724 726 725 727 729 723 731 732 728 734 730 733 737 735 738 740 741 736 739 744 743 746 747 742 745 748 751 750 752 749 753 754 756 755 759 760 761 757 758 763 762 766 765 764 769 768 770 767 773 772 771 776 777 774 778 775 780 779 781 783 782 785 784 788 786 787 789 791 790 793 794 795 792 798 796 799 797 802 801 800 804 803 806 805 809 808 807 812 813 811 815 814 810 818 816 819 817 820 821 822 825 823 824 828 827 826 829 831 830 834 832 833 836 838 839 837 835 840 842 841 843 845 846 844 849 848 847 851 850 854 852 856 855 853 858 857 859 862 860 864 865 861 866 863 867 870 868 871 872 869 873 875 874 878 876 879 880 877 883 881 885 882 884 887 886 890 888 892 891 889 893 894 895 896 897 900 899 898 901 902 903 904 906 905 909 907 911 910 908 913 912 916 915 914 918 917 920 919 922 921 925 924 923 927 926 930 928 929 932 933 931 934 935 936 937 940 938 939 942 941 945 943 947 944 949 946 948 952 951 954 950 955 953 956 958 957 961 959 960 963 962 966 965 964 969 968 971 967 973 972 970 974 975 976 979 978 981 977 980 984 983 982 985 987 986 989 988 992 993 990 994 991 995 996 997'\n",
    "q = q.split(' ')\n",
    "q = list(map(int,q))"
   ]
  },
  {
   "cell_type": "code",
   "execution_count": 249,
   "metadata": {},
   "outputs": [],
   "source": [
    "n_bribes = []\n",
    "for i,pos in enumerate(q):\n",
    "    bribes = 0\n",
    "    if i+1 != pos:\n",
    "        line_after = q[i+1:]\n",
    "        for pos_after in line_after:\n",
    "            if pos_after < pos:\n",
    "                bribes += 1\n",
    "    n_bribes.append(bribes)"
   ]
  },
  {
   "cell_type": "code",
   "execution_count": 251,
   "metadata": {},
   "outputs": [
    {
     "data": {
      "text/plain": [
       "648"
      ]
     },
     "execution_count": 251,
     "metadata": {},
     "output_type": "execute_result"
    }
   ],
   "source": [
    "sum(n_bribes)"
   ]
  },
  {
   "cell_type": "code",
   "execution_count": 236,
   "metadata": {},
   "outputs": [
    {
     "data": {
      "text/plain": [
       "44719"
      ]
     },
     "execution_count": 236,
     "metadata": {},
     "output_type": "execute_result"
    }
   ],
   "source": [
    "sum(n_bribes)"
   ]
  },
  {
   "cell_type": "code",
   "execution_count": 228,
   "metadata": {},
   "outputs": [
    {
     "data": {
      "text/plain": [
       "[]"
      ]
     },
     "execution_count": 228,
     "metadata": {},
     "output_type": "execute_result"
    }
   ],
   "source": [
    "line_after"
   ]
  },
  {
   "cell_type": "code",
   "execution_count": 254,
   "metadata": {},
   "outputs": [],
   "source": [
    "current_order = [1,2,3,4,5,6,7]\n",
    "current_order[6], current_order[5] = current_order[5], current_order[6]"
   ]
  },
  {
   "cell_type": "code",
   "execution_count": 260,
   "metadata": {},
   "outputs": [
    {
     "data": {
      "text/plain": [
       "[4, 3, 2]"
      ]
     },
     "execution_count": 260,
     "metadata": {},
     "output_type": "execute_result"
    }
   ],
   "source": [
    "list(range(4,1, -1))"
   ]
  },
  {
   "cell_type": "code",
   "execution_count": 294,
   "metadata": {},
   "outputs": [],
   "source": [
    "target_order = [1,2,5,3,7,6,4]\n",
    "current_order = [1,2,3,4,5,6,7]\n",
    "n = len(current_order)\n",
    "n_bribes = [0] * n\n",
    "while target_order != current_order:\n",
    "    for i in range(n):\n",
    "        current = current_order[i]\n",
    "        target = target_order[i]\n",
    "        if current != target:\n",
    "            for j in range(i+1, n):\n",
    "                if current_order[j] == target_order[i]:\n",
    "                    current_idx = j\n",
    "                    for m in list(reversed(range(i+1,j+1))):\n",
    "                        current_order[m-1], current_order[m] = current_order[m], current_order[m-1]\n",
    "                        n_bribes[target-1] += 1\n",
    "                    break"
   ]
  },
  {
   "cell_type": "code",
   "execution_count": 295,
   "metadata": {},
   "outputs": [
    {
     "data": {
      "text/plain": [
       "[5, 6, 7]"
      ]
     },
     "execution_count": 295,
     "metadata": {},
     "output_type": "execute_result"
    }
   ],
   "source": [
    "current_order = [1,2,3,4,5,6,7]\n",
    "current_order[-3:]"
   ]
  }
 ],
 "metadata": {
  "kernelspec": {
   "display_name": "Python 3.7.5 ('social-biases-nlp')",
   "language": "python",
   "name": "python3"
  },
  "language_info": {
   "codemirror_mode": {
    "name": "ipython",
    "version": 3
   },
   "file_extension": ".py",
   "mimetype": "text/x-python",
   "name": "python",
   "nbconvert_exporter": "python",
   "pygments_lexer": "ipython3",
   "version": "3.7.5"
  },
  "orig_nbformat": 4,
  "vscode": {
   "interpreter": {
    "hash": "dd72e8e2aaf53991ca0387625b715bfafc32c7f5349076efcff04c3ae2963a66"
   }
  }
 },
 "nbformat": 4,
 "nbformat_minor": 2
}
